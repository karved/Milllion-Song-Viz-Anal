{
  "cells": [
    {
      "cell_type": "markdown",
      "metadata": {
        "id": "oWa1CU2-xWsH"
      },
      "source": [
        "This is part of the analysis part for the artist network. It involves finding \n",
        "\n",
        "To do (Julia):\n",
        "- import network to work on in networkx (seems to be the most relevant library), using priority information to construct a weighted digraph\n",
        "- run community detection algorithm(s) and tune hyperparameters (and write up in evaluation of metrics section)\n",
        "- run central point detection algorithm/metrics (NOT degree centrality, but pagerank or something else could work)\n",
        "- re-export node data with additional columns for node community and whether it is central"
      ]
    },
    {
      "cell_type": "code",
      "execution_count": 1,
      "metadata": {
        "id": "ZfNtJjRNO9m2"
      },
      "outputs": [],
      "source": [
        "import pandas as pd #to read dataset files\n",
        "import networkx as nx #for network analysis\n",
        "import matplotlib.pyplot as plt #for some plots and evaluation of the analysis\n",
        "import numpy as np\n",
        "import random"
      ]
    },
    {
      "cell_type": "markdown",
      "metadata": {
        "id": "3OB7M6BDQPVx"
      },
      "source": [
        "# Community Detection in Networkx\n",
        " - Girvan-Newman - related to betweenness centrality (by default removes edge with highest betweenness centrality each iteration, but can be customized); can make weighted\n",
        "    - https://networkx.org/documentation/stable/reference/algorithms/generated/networkx.algorithms.community.centrality.girvan_newman.html#networkx.algorithms.community.centrality.girvan_newman\n",
        " - Fluid Communities - takes number communities k as hyperparameter, has random initialization; does not support weighted graphs (so not for us)\n",
        " - Clique Percolation - only finds cliques; probably not for us\n",
        " - Kernighan-Lin - partitions graph into 2; might want a more variable number of communities; not for us\n",
        " - Label propagation - essentially does label assignment until each node has the label of the majority of its neighbors in a weighted way\n",
        "    - https://networkx.org/documentation/stable/reference/algorithms/generated/networkx.algorithms.community.label_propagation.asyn_lpa_communities.html#networkx.algorithms.community.label_propagation.asyn_lpa_communities\n",
        " - Louvain algorithm - uses modularity; takes weight into account\n",
        "    - \"The most popular community detection algorithm in the space\"\n",
        "    - https://networkx.org/documentation/stable/reference/algorithms/generated/networkx.algorithms.community.louvain.louvain_communities.html#networkx.algorithms.community.louvain.louvain_communities\n",
        " - Greedy modularity-based algorithm, if Louvain takes too long\n",
        "    - https://networkx.org/documentation/stable/reference/algorithms/generated/networkx.algorithms.community.modularity_max.greedy_modularity_communities.html#networkx.algorithms.community.modularity_max.greedy_modularity_communities\n",
        "\n",
        "\n",
        "\n",
        "(source: https://memgraph.com/blog/community-detection-algorithms-with-python-networkx)\n",
        "\n",
        "I can check how well the algorithms perform with modularity (including weights), which we want to maximize. Modularity is in [-1, 1] and a higher modularity signifies a better clustering. https://networkx.org/documentation/stable/reference/algorithms/generated/networkx.algorithms.community.quality.modularity.html#networkx.algorithms.community.quality.modularity"
      ]
    },
    {
      "cell_type": "code",
      "execution_count": 2,
      "metadata": {
        "id": "JyCJ-KanWTK-"
      },
      "outputs": [],
      "source": [
        "# #first getting algs showing with dummy dataset\n",
        "# G = nx.karate_club_graph().to_directed()\n",
        "# #add weights to edges\n",
        "# random.seed(0)\n",
        "# for e in G.edges():\n",
        "#     G[e[0]][e[1]]['weight'] = random.uniform(0, 1)"
      ]
    },
    {
      "cell_type": "code",
      "execution_count": 3,
      "metadata": {
        "id": "MTLJh38w5fy1"
      },
      "outputs": [],
      "source": [
        "# nx.draw_networkx(G)"
      ]
    },
    {
      "cell_type": "code",
      "execution_count": 4,
      "metadata": {
        "id": "k1yZ6ThG3RFQ"
      },
      "outputs": [],
      "source": [
        "# print(G.edges())\n",
        "# example_edge = (0, 1)\n",
        "# print(G.get_edge_data(example_edge[0], example_edge[1]))"
      ]
    },
    {
      "cell_type": "code",
      "execution_count": 5,
      "metadata": {
        "id": "BwDuOXlS7zQZ"
      },
      "outputs": [],
      "source": [
        "#importing data, using edges file\n",
        "edges = pd.read_csv('./content/edges.csv')"
      ]
    },
    {
      "cell_type": "code",
      "execution_count": 6,
      "metadata": {
        "colab": {
          "base_uri": "https://localhost:8080/",
          "height": 206
        },
        "id": "_73Se_VO9wsN",
        "outputId": "23e781e2-34ff-4db8-cc19-58cfc3f975bb"
      },
      "outputs": [
        {
          "data": {
            "text/html": [
              "<div>\n",
              "<style scoped>\n",
              "    .dataframe tbody tr th:only-of-type {\n",
              "        vertical-align: middle;\n",
              "    }\n",
              "\n",
              "    .dataframe tbody tr th {\n",
              "        vertical-align: top;\n",
              "    }\n",
              "\n",
              "    .dataframe thead th {\n",
              "        text-align: right;\n",
              "    }\n",
              "</style>\n",
              "<table border=\"1\" class=\"dataframe\">\n",
              "  <thead>\n",
              "    <tr style=\"text-align: right;\">\n",
              "      <th></th>\n",
              "      <th>Unnamed: 0</th>\n",
              "      <th>source_artist_id</th>\n",
              "      <th>target_artist_id</th>\n",
              "      <th>priority</th>\n",
              "    </tr>\n",
              "  </thead>\n",
              "  <tbody>\n",
              "    <tr>\n",
              "      <th>0</th>\n",
              "      <td>0</td>\n",
              "      <td>AR003FB1187B994355</td>\n",
              "      <td>ARYACSL1187FB51611</td>\n",
              "      <td>1</td>\n",
              "    </tr>\n",
              "    <tr>\n",
              "      <th>1</th>\n",
              "      <td>1</td>\n",
              "      <td>AR003FB1187B994355</td>\n",
              "      <td>ARYLCCQ1187B999F4B</td>\n",
              "      <td>2</td>\n",
              "    </tr>\n",
              "    <tr>\n",
              "      <th>2</th>\n",
              "      <td>2</td>\n",
              "      <td>AR003FB1187B994355</td>\n",
              "      <td>AR783EH1187B9921DD</td>\n",
              "      <td>3</td>\n",
              "    </tr>\n",
              "    <tr>\n",
              "      <th>3</th>\n",
              "      <td>3</td>\n",
              "      <td>AR003FB1187B994355</td>\n",
              "      <td>AR146Z8119B866996C</td>\n",
              "      <td>4</td>\n",
              "    </tr>\n",
              "    <tr>\n",
              "      <th>4</th>\n",
              "      <td>4</td>\n",
              "      <td>AR003FB1187B994355</td>\n",
              "      <td>AR5WAUE1187FB40839</td>\n",
              "      <td>5</td>\n",
              "    </tr>\n",
              "  </tbody>\n",
              "</table>\n",
              "</div>"
            ],
            "text/plain": [
              "   Unnamed: 0    source_artist_id    target_artist_id  priority\n",
              "0           0  AR003FB1187B994355  ARYACSL1187FB51611         1\n",
              "1           1  AR003FB1187B994355  ARYLCCQ1187B999F4B         2\n",
              "2           2  AR003FB1187B994355  AR783EH1187B9921DD         3\n",
              "3           3  AR003FB1187B994355  AR146Z8119B866996C         4\n",
              "4           4  AR003FB1187B994355  AR5WAUE1187FB40839         5"
            ]
          },
          "execution_count": 6,
          "metadata": {},
          "output_type": "execute_result"
        }
      ],
      "source": [
        "edges.head()"
      ]
    },
    {
      "cell_type": "code",
      "execution_count": 7,
      "metadata": {
        "id": "ogbE3P3o99yz"
      },
      "outputs": [],
      "source": [
        "edges['weight'] = (100 - edges['priority'])/100\n",
        "#weight is in [0,1] and higher weights correspond to earlier artists in the list of similar artists"
      ]
    },
    {
      "cell_type": "code",
      "execution_count": 8,
      "metadata": {
        "colab": {
          "base_uri": "https://localhost:8080/",
          "height": 206
        },
        "id": "fLvE56b2-MOY",
        "outputId": "7b0f3755-74ad-4379-fa5f-062e89b82886"
      },
      "outputs": [
        {
          "data": {
            "text/html": [
              "<div>\n",
              "<style scoped>\n",
              "    .dataframe tbody tr th:only-of-type {\n",
              "        vertical-align: middle;\n",
              "    }\n",
              "\n",
              "    .dataframe tbody tr th {\n",
              "        vertical-align: top;\n",
              "    }\n",
              "\n",
              "    .dataframe thead th {\n",
              "        text-align: right;\n",
              "    }\n",
              "</style>\n",
              "<table border=\"1\" class=\"dataframe\">\n",
              "  <thead>\n",
              "    <tr style=\"text-align: right;\">\n",
              "      <th></th>\n",
              "      <th>Unnamed: 0</th>\n",
              "      <th>source_artist_id</th>\n",
              "      <th>target_artist_id</th>\n",
              "      <th>priority</th>\n",
              "      <th>weight</th>\n",
              "    </tr>\n",
              "  </thead>\n",
              "  <tbody>\n",
              "    <tr>\n",
              "      <th>0</th>\n",
              "      <td>0</td>\n",
              "      <td>AR003FB1187B994355</td>\n",
              "      <td>ARYACSL1187FB51611</td>\n",
              "      <td>1</td>\n",
              "      <td>0.99</td>\n",
              "    </tr>\n",
              "    <tr>\n",
              "      <th>1</th>\n",
              "      <td>1</td>\n",
              "      <td>AR003FB1187B994355</td>\n",
              "      <td>ARYLCCQ1187B999F4B</td>\n",
              "      <td>2</td>\n",
              "      <td>0.98</td>\n",
              "    </tr>\n",
              "    <tr>\n",
              "      <th>2</th>\n",
              "      <td>2</td>\n",
              "      <td>AR003FB1187B994355</td>\n",
              "      <td>AR783EH1187B9921DD</td>\n",
              "      <td>3</td>\n",
              "      <td>0.97</td>\n",
              "    </tr>\n",
              "    <tr>\n",
              "      <th>3</th>\n",
              "      <td>3</td>\n",
              "      <td>AR003FB1187B994355</td>\n",
              "      <td>AR146Z8119B866996C</td>\n",
              "      <td>4</td>\n",
              "      <td>0.96</td>\n",
              "    </tr>\n",
              "    <tr>\n",
              "      <th>4</th>\n",
              "      <td>4</td>\n",
              "      <td>AR003FB1187B994355</td>\n",
              "      <td>AR5WAUE1187FB40839</td>\n",
              "      <td>5</td>\n",
              "      <td>0.95</td>\n",
              "    </tr>\n",
              "  </tbody>\n",
              "</table>\n",
              "</div>"
            ],
            "text/plain": [
              "   Unnamed: 0    source_artist_id    target_artist_id  priority  weight\n",
              "0           0  AR003FB1187B994355  ARYACSL1187FB51611         1    0.99\n",
              "1           1  AR003FB1187B994355  ARYLCCQ1187B999F4B         2    0.98\n",
              "2           2  AR003FB1187B994355  AR783EH1187B9921DD         3    0.97\n",
              "3           3  AR003FB1187B994355  AR146Z8119B866996C         4    0.96\n",
              "4           4  AR003FB1187B994355  AR5WAUE1187FB40839         5    0.95"
            ]
          },
          "execution_count": 8,
          "metadata": {},
          "output_type": "execute_result"
        }
      ],
      "source": [
        "edges.head()"
      ]
    },
    {
      "cell_type": "code",
      "execution_count": 9,
      "metadata": {
        "colab": {
          "base_uri": "https://localhost:8080/"
        },
        "id": "eDfX3rHw-jQ-",
        "outputId": "04e41182-0bbc-4f48-f7f5-e11ff2743990"
      },
      "outputs": [
        {
          "name": "stdout",
          "output_type": "stream",
          "text": [
            "2002865\n"
          ]
        }
      ],
      "source": [
        "print(len(edges))"
      ]
    },
    {
      "cell_type": "code",
      "execution_count": 10,
      "metadata": {
        "id": "koSpOhQG-qe1"
      },
      "outputs": [],
      "source": [
        "# #Collapse all edges of the same type between the same two nodes by summing their weights\n",
        "# edges1 = edges.groupby(['source_artist_id', 'target_artist_id'])['weight'].sum().reset_index()\n",
        "# print(len(edges1))# was same, did nothing"
      ]
    },
    {
      "cell_type": "code",
      "execution_count": 11,
      "metadata": {
        "id": "VxnB5uF6-8QJ"
      },
      "outputs": [],
      "source": [
        "#convert dataframe to networkx graph\n",
        "G = nx.from_pandas_edgelist(edges, source='source_artist_id', target='target_artist_id',edge_attr=True, create_using=nx.DiGraph())"
      ]
    },
    {
      "cell_type": "code",
      "execution_count": 12,
      "metadata": {
        "colab": {
          "base_uri": "https://localhost:8080/"
        },
        "id": "39sV0rdW_OyV",
        "outputId": "1db202fd-7c0c-4618-f116-213d656a2e0e"
      },
      "outputs": [
        {
          "name": "stdout",
          "output_type": "stream",
          "text": [
            "{'Unnamed: 0': 0, 'priority': 1, 'weight': 0.99}\n"
          ]
        }
      ],
      "source": [
        "# print(G.edges())\n",
        "example_edge = ('AR003FB1187B994355', 'ARYACSL1187FB51611')\n",
        "print(G.get_edge_data(example_edge[0], example_edge[1]))"
      ]
    },
    {
      "cell_type": "code",
      "execution_count": 13,
      "metadata": {
        "id": "TjKW5h1vAAbt"
      },
      "outputs": [],
      "source": [
        "# nx.draw_networkx(G)"
      ]
    },
    {
      "cell_type": "markdown",
      "metadata": {
        "id": "_EWj6xH2gdAR"
      },
      "source": [
        "# Girvan-Newman\n",
        "Actually decided to omit this one, since it copies to an undirected graph in the source code (it doesn't use the directedness) and it is very computationally expensive.\n",
        "\n",
        "source: https://stackoverflow.com/questions/62951320/why-is-the-girvan-newman-algorithm-in-networkx-so-slow"
      ]
    },
    {
      "cell_type": "code",
      "execution_count": 14,
      "metadata": {
        "id": "6lXKx-ZA5xAH"
      },
      "outputs": [],
      "source": [
        "#make sure it uses weights when calculating betweeness centrality by providing custom function, based on API example\n",
        "def most_central_edge(G):\n",
        "    centrality = nx.edge_betweenness_centrality(G, weight=\"weight\")\n",
        "    return max(centrality, key=centrality.get)"
      ]
    },
    {
      "cell_type": "code",
      "execution_count": 15,
      "metadata": {
        "id": "OCcMqA3yZMPX"
      },
      "outputs": [],
      "source": [
        "# #Girvan-Newman: based on edge betweeness\n",
        "# girvan_newman_communities_possibilities = nx.algorithms.community.girvan_newman(G, most_valuable_edge=most_central_edge)\n",
        "# #gives iterator of possible partitions, turn into list, many online examples only use first term\n",
        "# girvan_newman_communities = tuple(sorted(c) for c in next(girvan_newman_communities_possibilities))"
      ]
    },
    {
      "cell_type": "code",
      "execution_count": 16,
      "metadata": {
        "id": "XOF5xruzbdVn"
      },
      "outputs": [],
      "source": [
        "def display_graph_of_communities(G, communities):\n",
        "  print(len(communities), \" communities\")\n",
        "  colors = ['#a6cee3','#1f78b4','#b2df8a','#33a02c','#fb9a99','#e31a1c','#fdbf6f','#ff7f00','#cab2d6']\n",
        "  pos = nx.spring_layout(G)\n",
        "  color_map = {}\n",
        "  keys = G.nodes()\n",
        "  values = \"black\"\n",
        "  for i in keys:\n",
        "    color_map[i] = values\n",
        "  for c in range(len(communities)):\n",
        "    #in community c\n",
        "    for node in communities[c]:\n",
        "      color_map[node] = colors[c]\n",
        "  nx.draw_networkx_edges(G, pos)\n",
        "  nx.draw_networkx_nodes(G, pos, node_color=dict(color_map).values())\n",
        "  nx.draw_networkx_labels(G, pos)\n",
        "  plt.axis(\"off\")\n",
        "  plt.show()\n"
      ]
    },
    {
      "cell_type": "code",
      "execution_count": 17,
      "metadata": {
        "id": "BcnoGFnxfQCR"
      },
      "outputs": [],
      "source": [
        "# print(\"Girvan Newman alg\")\n",
        "# girvan_newman_modularity = nx.algorithms.community.modularity(G, girvan_newman_communities, weight='weight')\n",
        "# print(\"Modularity: \", girvan_newman_modularity)\n",
        "# display_graph_of_communities(G, girvan_newman_communities)"
      ]
    },
    {
      "cell_type": "markdown",
      "metadata": {
        "id": "3u97oyGagYE5"
      },
      "source": [
        "# Label propagation"
      ]
    },
    {
      "cell_type": "code",
      "execution_count": 18,
      "metadata": {
        "id": "1Gbn5LBMhPfp"
      },
      "outputs": [],
      "source": [
        "#Label propagation\n",
        "label_prop_communities_possibilities = nx.algorithms.community.asyn_lpa_communities(G, weight='weight', seed=0)#todo: add weight param\n",
        "# print(label_prop_communities_possibilities)\n",
        "# async version gives iterator of communities, turn into list\n",
        "label_prop_communities = [tuple(c) for c in label_prop_communities_possibilities]\n",
        "# print(label_prop_communities)\n",
        "#runtime: 1 min 25 s"
      ]
    },
    {
      "cell_type": "code",
      "execution_count": 19,
      "metadata": {
        "colab": {
          "base_uri": "https://localhost:8080/"
        },
        "id": "VAU65dPahndl",
        "outputId": "cb9f85f6-4b0c-438e-aee2-c08f0966bf3c"
      },
      "outputs": [
        {
          "name": "stdout",
          "output_type": "stream",
          "text": [
            "Label propagation alg\n",
            "Modularity:  0.6769535889010251\n"
          ]
        }
      ],
      "source": [
        "print(\"Label propagation alg\")\n",
        "label_prop_modularity = nx.algorithms.community.modularity(G, label_prop_communities, weight='weight')\n",
        "print(\"Modularity: \", label_prop_modularity)\n",
        "# display_graph_of_communities(G, label_prop_communities)"
      ]
    },
    {
      "cell_type": "markdown",
      "metadata": {
        "id": "w2ZBKnK7lLRf"
      },
      "source": [
        "# Louvain"
      ]
    },
    {
      "cell_type": "code",
      "execution_count": 20,
      "metadata": {
        "id": "MAkVxuHXlXlu"
      },
      "outputs": [],
      "source": [
        "# Louvain partition\n",
        "louvain_communities_set = nx.algorithms.community.louvain_communities(G, weight='weight', seed=0)#this algorithm uses Louvain\n",
        "louvain_communities = [tuple(c) for c in louvain_communities_set]\n",
        "#runtime: 1 min 18s"
      ]
    },
    {
      "cell_type": "code",
      "execution_count": 21,
      "metadata": {
        "colab": {
          "base_uri": "https://localhost:8080/"
        },
        "id": "0R86cLKElzIc",
        "outputId": "9e84fc03-ff58-4acb-ca16-e8037d515f51"
      },
      "outputs": [
        {
          "name": "stdout",
          "output_type": "stream",
          "text": [
            "Louvain alg\n",
            "Modularity:  0.6633771500232729\n"
          ]
        }
      ],
      "source": [
        "print(\"Louvain alg\")\n",
        "louvain_modularity = nx.algorithms.community.modularity(G, louvain_communities, weight='weight')\n",
        "print(\"Modularity: \", louvain_modularity)\n",
        "# display_graph_of_communities(G, louvain_communities)"
      ]
    },
    {
      "cell_type": "markdown",
      "metadata": {
        "id": "vLugxB-hnlQK"
      },
      "source": [
        "# Greedy modular communities"
      ]
    },
    {
      "cell_type": "code",
      "execution_count": 22,
      "metadata": {
        "id": "N8DEKTefnogC"
      },
      "outputs": [],
      "source": [
        "#greedy modular communities\n",
        "greedy_communities_set = nx.algorithms.community.greedy_modularity_communities(G, weight='weight')\n",
        "greedy_communities = [tuple(c) for c in greedy_communities_set]\n",
        "#time: 74 min (fast-ish on my M1 Mac, in Google Collab free it was still running at 2 1/2 hours)"
      ]
    },
    {
      "cell_type": "code",
      "execution_count": 23,
      "metadata": {
        "id": "Ny32gq7HoCgB"
      },
      "outputs": [
        {
          "name": "stdout",
          "output_type": "stream",
          "text": [
            "Greedy modularity alg\n",
            "Modularity:  0.5718171819400073\n"
          ]
        }
      ],
      "source": [
        "print(\"Greedy modularity alg\")\n",
        "greedy_modularity = nx.algorithms.community.modularity(G, greedy_communities, weight='weight')\n",
        "print(\"Modularity: \", greedy_modularity)\n",
        "# display_graph_of_communities(G, greedy_communities)"
      ]
    },
    {
      "cell_type": "markdown",
      "metadata": {
        "id": "J5_v_oV3ywhe"
      },
      "source": [
        "# Comparison of Algorithm Performance"
      ]
    },
    {
      "cell_type": "code",
      "execution_count": 24,
      "metadata": {
        "id": "SYPd0g3dy3oR"
      },
      "outputs": [],
      "source": [
        "algs = [\"Label Propagation\", \"Louvain\", \"Greedy Modularity\"]\n",
        "modularities = [label_prop_modularity, louvain_modularity, greedy_modularity]\n",
        "num_communities = [len(label_prop_communities), len(louvain_communities), len(greedy_communities)]"
      ]
    },
    {
      "cell_type": "code",
      "execution_count": 25,
      "metadata": {
        "id": "EIZVZDtL0GzY"
      },
      "outputs": [
        {
          "data": {
            "image/png": "[encoded data removed]",
            "text/plain": [
              "<Figure size 640x480 with 1 Axes>"
            ]
          },
          "metadata": {},
          "output_type": "display_data"
        },
        {
          "data": {
            "image/png": "[encoded data removed]",
            "text/plain": [
              "<Figure size 640x480 with 1 Axes>"
            ]
          },
          "metadata": {},
          "output_type": "display_data"
        },
        {
          "name": "stdout",
          "output_type": "stream",
          "text": [
            "[295, 292, 29]\n"
          ]
        }
      ],
      "source": [
        "#make bar plots\n",
        "\n",
        "# alg vs modularity\n",
        "fig = plt.figure()\n",
        "ax = fig.add_axes([0,0,1,1])\n",
        "ax.bar(algs, modularities)\n",
        "ax.set_title(\"Algorithm vs Modularity\")\n",
        "ax.set_xlabel(\"Algorithm\")\n",
        "ax.set_ylabel(\"Modularity\")\n",
        "plt.show()\n",
        "\n",
        "# alg vs number of clusters\n",
        "fig1 = plt.figure()\n",
        "ax1 = fig1.add_axes([0,0,1,1])\n",
        "ax1.bar(algs, num_communities)\n",
        "ax1.set_title(\"Algorithm vs Number Communities\")\n",
        "ax1.set_xlabel(\"Algorithm\")\n",
        "ax1.set_ylabel(\"Number of Communities\")\n",
        "plt.show()\n",
        "\n",
        "print(num_communities)"
      ]
    },
    {
      "cell_type": "code",
      "execution_count": 26,
      "metadata": {
        "id": "Z1spRShYK_ah"
      },
      "outputs": [
        {
          "name": "stdout",
          "output_type": "stream",
          "text": [
            "Best algorithm was  Label Propagation  with modularity  0.6769535889010251\n"
          ]
        }
      ],
      "source": [
        "best_alg_index = np.argmax(modularities)\n",
        "print(\"Best algorithm was \", algs[best_alg_index], \" with modularity \", modularities[best_alg_index])"
      ]
    },
    {
      "cell_type": "markdown",
      "metadata": {
        "id": "41sRRBjvL1Tt"
      },
      "source": [
        "# Finding most central nodes: computing PageRank"
      ]
    },
    {
      "cell_type": "code",
      "execution_count": 27,
      "metadata": {
        "id": "ENxt5nu8S7Ah"
      },
      "outputs": [],
      "source": [
        "#pagerank\n",
        "rankings = nx.pagerank(G, weight='weight')#default alpha is 0.85"
      ]
    },
    {
      "cell_type": "code",
      "execution_count": 28,
      "metadata": {
        "id": "xDOjl5I4S-_-"
      },
      "outputs": [],
      "source": [
        "def return_el_1(item):#for use in sorting\n",
        "  return item[1]"
      ]
    },
    {
      "cell_type": "code",
      "execution_count": 29,
      "metadata": {
        "id": "MfoZxUaVTH70"
      },
      "outputs": [],
      "source": [
        "#get order of centrality (1 to len(nodes)) based on sorting rankings\n",
        "rankings_list = list(rankings.items())\n",
        "# has all nodes in (node, ranking) form\n",
        "# sort based on rankings, descending\n",
        "rankings_list.sort(reverse=True, key=return_el_1)"
      ]
    },
    {
      "cell_type": "code",
      "execution_count": 30,
      "metadata": {
        "id": "xxsnttowTjH8"
      },
      "outputs": [],
      "source": [
        "centrality_rank_dict = {rankings_list[i][0]: i+1 for i in range(len(rankings_list))}"
      ]
    },
    {
      "cell_type": "markdown",
      "metadata": {
        "id": "A7vrczcNTmgC"
      },
      "source": [
        "# Updating nodes file with findings"
      ]
    },
    {
      "cell_type": "code",
      "execution_count": 31,
      "metadata": {
        "id": "lfntprMCTljJ"
      },
      "outputs": [],
      "source": [
        "#importing data, using nodes file\n",
        "nodes = pd.read_csv('./content/nodes.csv')"
      ]
    },
    {
      "cell_type": "code",
      "execution_count": 32,
      "metadata": {
        "id": "oRCPocYzUbMv"
      },
      "outputs": [
        {
          "data": {
            "text/html": [
              "<div>\n",
              "<style scoped>\n",
              "    .dataframe tbody tr th:only-of-type {\n",
              "        vertical-align: middle;\n",
              "    }\n",
              "\n",
              "    .dataframe tbody tr th {\n",
              "        vertical-align: top;\n",
              "    }\n",
              "\n",
              "    .dataframe thead th {\n",
              "        text-align: right;\n",
              "    }\n",
              "</style>\n",
              "<table border=\"1\" class=\"dataframe\">\n",
              "  <thead>\n",
              "    <tr style=\"text-align: right;\">\n",
              "      <th></th>\n",
              "      <th>Unnamed: 0</th>\n",
              "      <th>artist_id</th>\n",
              "      <th>avg_duration</th>\n",
              "      <th>total_tracks</th>\n",
              "      <th>avg_familiarity</th>\n",
              "      <th>avg_hotttnesss</th>\n",
              "      <th>artist_name</th>\n",
              "      <th>rank</th>\n",
              "    </tr>\n",
              "  </thead>\n",
              "  <tbody>\n",
              "    <tr>\n",
              "      <th>0</th>\n",
              "      <td>0</td>\n",
              "      <td>ARTW7I31187B9A4CA9</td>\n",
              "      <td>290.024037</td>\n",
              "      <td>10</td>\n",
              "      <td>0.732966</td>\n",
              "      <td>0.482131</td>\n",
              "      <td>!!!</td>\n",
              "      <td>1</td>\n",
              "    </tr>\n",
              "    <tr>\n",
              "      <th>1</th>\n",
              "      <td>1</td>\n",
              "      <td>ARV82I61187B99E711</td>\n",
              "      <td>271.437915</td>\n",
              "      <td>2</td>\n",
              "      <td>0.473185</td>\n",
              "      <td>0.079863</td>\n",
              "      <td>!Bazz Feat. Siamak</td>\n",
              "      <td>1</td>\n",
              "    </tr>\n",
              "    <tr>\n",
              "      <th>2</th>\n",
              "      <td>2</td>\n",
              "      <td>ARN9GSE1187FB57A23</td>\n",
              "      <td>335.061751</td>\n",
              "      <td>15</td>\n",
              "      <td>0.521701</td>\n",
              "      <td>0.389536</td>\n",
              "      <td>!Deladap</td>\n",
              "      <td>1</td>\n",
              "    </tr>\n",
              "    <tr>\n",
              "      <th>3</th>\n",
              "      <td>3</td>\n",
              "      <td>ARI31A31187B9A7B6C</td>\n",
              "      <td>318.562810</td>\n",
              "      <td>2</td>\n",
              "      <td>0.391269</td>\n",
              "      <td>0.525509</td>\n",
              "      <td>#Poundsign#</td>\n",
              "      <td>1</td>\n",
              "    </tr>\n",
              "    <tr>\n",
              "      <th>4</th>\n",
              "      <td>4</td>\n",
              "      <td>ARPGMJP1241B9C99AE</td>\n",
              "      <td>281.745084</td>\n",
              "      <td>7</td>\n",
              "      <td>0.499202</td>\n",
              "      <td>0.000000</td>\n",
              "      <td>$jammie the Money</td>\n",
              "      <td>1</td>\n",
              "    </tr>\n",
              "  </tbody>\n",
              "</table>\n",
              "</div>"
            ],
            "text/plain": [
              "   Unnamed: 0           artist_id  avg_duration  total_tracks  \\\n",
              "0           0  ARTW7I31187B9A4CA9    290.024037            10   \n",
              "1           1  ARV82I61187B99E711    271.437915             2   \n",
              "2           2  ARN9GSE1187FB57A23    335.061751            15   \n",
              "3           3  ARI31A31187B9A7B6C    318.562810             2   \n",
              "4           4  ARPGMJP1241B9C99AE    281.745084             7   \n",
              "\n",
              "   avg_familiarity  avg_hotttnesss         artist_name  rank  \n",
              "0         0.732966        0.482131                 !!!     1  \n",
              "1         0.473185        0.079863  !Bazz Feat. Siamak     1  \n",
              "2         0.521701        0.389536            !Deladap     1  \n",
              "3         0.391269        0.525509         #Poundsign#     1  \n",
              "4         0.499202        0.000000   $jammie the Money     1  "
            ]
          },
          "execution_count": 32,
          "metadata": {},
          "output_type": "execute_result"
        }
      ],
      "source": [
        "nodes.head()"
      ]
    },
    {
      "cell_type": "code",
      "execution_count": 33,
      "metadata": {
        "id": "Cfl0WoufVZMi"
      },
      "outputs": [],
      "source": [
        "# add column for the centrality_rank\n",
        "nodes[\"centrality_rank\"] = nodes[\"artist_id\"].map(centrality_rank_dict)"
      ]
    },
    {
      "cell_type": "code",
      "execution_count": 34,
      "metadata": {
        "id": "KWjb0hofV_oC"
      },
      "outputs": [
        {
          "data": {
            "text/html": [
              "<div>\n",
              "<style scoped>\n",
              "    .dataframe tbody tr th:only-of-type {\n",
              "        vertical-align: middle;\n",
              "    }\n",
              "\n",
              "    .dataframe tbody tr th {\n",
              "        vertical-align: top;\n",
              "    }\n",
              "\n",
              "    .dataframe thead th {\n",
              "        text-align: right;\n",
              "    }\n",
              "</style>\n",
              "<table border=\"1\" class=\"dataframe\">\n",
              "  <thead>\n",
              "    <tr style=\"text-align: right;\">\n",
              "      <th></th>\n",
              "      <th>Unnamed: 0</th>\n",
              "      <th>artist_id</th>\n",
              "      <th>avg_duration</th>\n",
              "      <th>total_tracks</th>\n",
              "      <th>avg_familiarity</th>\n",
              "      <th>avg_hotttnesss</th>\n",
              "      <th>artist_name</th>\n",
              "      <th>rank</th>\n",
              "      <th>centrality_rank</th>\n",
              "    </tr>\n",
              "  </thead>\n",
              "  <tbody>\n",
              "    <tr>\n",
              "      <th>0</th>\n",
              "      <td>0</td>\n",
              "      <td>ARTW7I31187B9A4CA9</td>\n",
              "      <td>290.024037</td>\n",
              "      <td>10</td>\n",
              "      <td>0.732966</td>\n",
              "      <td>0.482131</td>\n",
              "      <td>!!!</td>\n",
              "      <td>1</td>\n",
              "      <td>26393.0</td>\n",
              "    </tr>\n",
              "    <tr>\n",
              "      <th>1</th>\n",
              "      <td>1</td>\n",
              "      <td>ARV82I61187B99E711</td>\n",
              "      <td>271.437915</td>\n",
              "      <td>2</td>\n",
              "      <td>0.473185</td>\n",
              "      <td>0.079863</td>\n",
              "      <td>!Bazz Feat. Siamak</td>\n",
              "      <td>1</td>\n",
              "      <td>35443.0</td>\n",
              "    </tr>\n",
              "    <tr>\n",
              "      <th>2</th>\n",
              "      <td>2</td>\n",
              "      <td>ARN9GSE1187FB57A23</td>\n",
              "      <td>335.061751</td>\n",
              "      <td>15</td>\n",
              "      <td>0.521701</td>\n",
              "      <td>0.389536</td>\n",
              "      <td>!Deladap</td>\n",
              "      <td>1</td>\n",
              "      <td>13143.0</td>\n",
              "    </tr>\n",
              "    <tr>\n",
              "      <th>3</th>\n",
              "      <td>3</td>\n",
              "      <td>ARI31A31187B9A7B6C</td>\n",
              "      <td>318.562810</td>\n",
              "      <td>2</td>\n",
              "      <td>0.391269</td>\n",
              "      <td>0.525509</td>\n",
              "      <td>#Poundsign#</td>\n",
              "      <td>1</td>\n",
              "      <td>15381.0</td>\n",
              "    </tr>\n",
              "    <tr>\n",
              "      <th>4</th>\n",
              "      <td>4</td>\n",
              "      <td>ARPGMJP1241B9C99AE</td>\n",
              "      <td>281.745084</td>\n",
              "      <td>7</td>\n",
              "      <td>0.499202</td>\n",
              "      <td>0.000000</td>\n",
              "      <td>$jammie the Money</td>\n",
              "      <td>1</td>\n",
              "      <td>29664.0</td>\n",
              "    </tr>\n",
              "  </tbody>\n",
              "</table>\n",
              "</div>"
            ],
            "text/plain": [
              "   Unnamed: 0           artist_id  avg_duration  total_tracks  \\\n",
              "0           0  ARTW7I31187B9A4CA9    290.024037            10   \n",
              "1           1  ARV82I61187B99E711    271.437915             2   \n",
              "2           2  ARN9GSE1187FB57A23    335.061751            15   \n",
              "3           3  ARI31A31187B9A7B6C    318.562810             2   \n",
              "4           4  ARPGMJP1241B9C99AE    281.745084             7   \n",
              "\n",
              "   avg_familiarity  avg_hotttnesss         artist_name  rank  centrality_rank  \n",
              "0         0.732966        0.482131                 !!!     1          26393.0  \n",
              "1         0.473185        0.079863  !Bazz Feat. Siamak     1          35443.0  \n",
              "2         0.521701        0.389536            !Deladap     1          13143.0  \n",
              "3         0.391269        0.525509         #Poundsign#     1          15381.0  \n",
              "4         0.499202        0.000000   $jammie the Money     1          29664.0  "
            ]
          },
          "execution_count": 34,
          "metadata": {},
          "output_type": "execute_result"
        }
      ],
      "source": [
        "nodes.head()"
      ]
    },
    {
      "cell_type": "code",
      "execution_count": 35,
      "metadata": {
        "id": "T4rm5laYUm-I"
      },
      "outputs": [],
      "source": [
        "# add in which community they are in for the optimal community\n",
        "best_communities = label_prop_communities"
      ]
    },
    {
      "cell_type": "code",
      "execution_count": 36,
      "metadata": {
        "id": "yHOeNssxU0Nh"
      },
      "outputs": [],
      "source": [
        "community_dict = {}\n",
        "for community_idx in range(len(best_communities)):\n",
        "  community = best_communities[community_idx]\n",
        "  for node in community:\n",
        "    community_dict[node] = community_idx"
      ]
    },
    {
      "cell_type": "code",
      "execution_count": 37,
      "metadata": {
        "id": "XfWjCl8fWYJU"
      },
      "outputs": [],
      "source": [
        "# add column for the community\n",
        "nodes[\"community\"] = nodes[\"artist_id\"].map(community_dict)"
      ]
    },
    {
      "cell_type": "code",
      "execution_count": 38,
      "metadata": {
        "id": "iPrDJu2PWhI3"
      },
      "outputs": [
        {
          "data": {
            "text/html": [
              "<div>\n",
              "<style scoped>\n",
              "    .dataframe tbody tr th:only-of-type {\n",
              "        vertical-align: middle;\n",
              "    }\n",
              "\n",
              "    .dataframe tbody tr th {\n",
              "        vertical-align: top;\n",
              "    }\n",
              "\n",
              "    .dataframe thead th {\n",
              "        text-align: right;\n",
              "    }\n",
              "</style>\n",
              "<table border=\"1\" class=\"dataframe\">\n",
              "  <thead>\n",
              "    <tr style=\"text-align: right;\">\n",
              "      <th></th>\n",
              "      <th>Unnamed: 0</th>\n",
              "      <th>artist_id</th>\n",
              "      <th>avg_duration</th>\n",
              "      <th>total_tracks</th>\n",
              "      <th>avg_familiarity</th>\n",
              "      <th>avg_hotttnesss</th>\n",
              "      <th>artist_name</th>\n",
              "      <th>rank</th>\n",
              "      <th>centrality_rank</th>\n",
              "      <th>community</th>\n",
              "    </tr>\n",
              "  </thead>\n",
              "  <tbody>\n",
              "    <tr>\n",
              "      <th>0</th>\n",
              "      <td>0</td>\n",
              "      <td>ARTW7I31187B9A4CA9</td>\n",
              "      <td>290.024037</td>\n",
              "      <td>10</td>\n",
              "      <td>0.732966</td>\n",
              "      <td>0.482131</td>\n",
              "      <td>!!!</td>\n",
              "      <td>1</td>\n",
              "      <td>26393.0</td>\n",
              "      <td>1.0</td>\n",
              "    </tr>\n",
              "    <tr>\n",
              "      <th>1</th>\n",
              "      <td>1</td>\n",
              "      <td>ARV82I61187B99E711</td>\n",
              "      <td>271.437915</td>\n",
              "      <td>2</td>\n",
              "      <td>0.473185</td>\n",
              "      <td>0.079863</td>\n",
              "      <td>!Bazz Feat. Siamak</td>\n",
              "      <td>1</td>\n",
              "      <td>35443.0</td>\n",
              "      <td>25.0</td>\n",
              "    </tr>\n",
              "    <tr>\n",
              "      <th>2</th>\n",
              "      <td>2</td>\n",
              "      <td>ARN9GSE1187FB57A23</td>\n",
              "      <td>335.061751</td>\n",
              "      <td>15</td>\n",
              "      <td>0.521701</td>\n",
              "      <td>0.389536</td>\n",
              "      <td>!Deladap</td>\n",
              "      <td>1</td>\n",
              "      <td>13143.0</td>\n",
              "      <td>123.0</td>\n",
              "    </tr>\n",
              "    <tr>\n",
              "      <th>3</th>\n",
              "      <td>3</td>\n",
              "      <td>ARI31A31187B9A7B6C</td>\n",
              "      <td>318.562810</td>\n",
              "      <td>2</td>\n",
              "      <td>0.391269</td>\n",
              "      <td>0.525509</td>\n",
              "      <td>#Poundsign#</td>\n",
              "      <td>1</td>\n",
              "      <td>15381.0</td>\n",
              "      <td>1.0</td>\n",
              "    </tr>\n",
              "    <tr>\n",
              "      <th>4</th>\n",
              "      <td>4</td>\n",
              "      <td>ARPGMJP1241B9C99AE</td>\n",
              "      <td>281.745084</td>\n",
              "      <td>7</td>\n",
              "      <td>0.499202</td>\n",
              "      <td>0.000000</td>\n",
              "      <td>$jammie the Money</td>\n",
              "      <td>1</td>\n",
              "      <td>29664.0</td>\n",
              "      <td>23.0</td>\n",
              "    </tr>\n",
              "  </tbody>\n",
              "</table>\n",
              "</div>"
            ],
            "text/plain": [
              "   Unnamed: 0           artist_id  avg_duration  total_tracks  \\\n",
              "0           0  ARTW7I31187B9A4CA9    290.024037            10   \n",
              "1           1  ARV82I61187B99E711    271.437915             2   \n",
              "2           2  ARN9GSE1187FB57A23    335.061751            15   \n",
              "3           3  ARI31A31187B9A7B6C    318.562810             2   \n",
              "4           4  ARPGMJP1241B9C99AE    281.745084             7   \n",
              "\n",
              "   avg_familiarity  avg_hotttnesss         artist_name  rank  centrality_rank  \\\n",
              "0         0.732966        0.482131                 !!!     1          26393.0   \n",
              "1         0.473185        0.079863  !Bazz Feat. Siamak     1          35443.0   \n",
              "2         0.521701        0.389536            !Deladap     1          13143.0   \n",
              "3         0.391269        0.525509         #Poundsign#     1          15381.0   \n",
              "4         0.499202        0.000000   $jammie the Money     1          29664.0   \n",
              "\n",
              "   community  \n",
              "0        1.0  \n",
              "1       25.0  \n",
              "2      123.0  \n",
              "3        1.0  \n",
              "4       23.0  "
            ]
          },
          "execution_count": 38,
          "metadata": {},
          "output_type": "execute_result"
        }
      ],
      "source": [
        "nodes.head()"
      ]
    },
    {
      "cell_type": "code",
      "execution_count": 39,
      "metadata": {
        "id": "Fr0Bv8p2WmHr"
      },
      "outputs": [
        {
          "data": {
            "text/html": [
              "<div>\n",
              "<style scoped>\n",
              "    .dataframe tbody tr th:only-of-type {\n",
              "        vertical-align: middle;\n",
              "    }\n",
              "\n",
              "    .dataframe tbody tr th {\n",
              "        vertical-align: top;\n",
              "    }\n",
              "\n",
              "    .dataframe thead th {\n",
              "        text-align: right;\n",
              "    }\n",
              "</style>\n",
              "<table border=\"1\" class=\"dataframe\">\n",
              "  <thead>\n",
              "    <tr style=\"text-align: right;\">\n",
              "      <th></th>\n",
              "      <th>Unnamed: 0</th>\n",
              "      <th>artist_id</th>\n",
              "      <th>avg_duration</th>\n",
              "      <th>total_tracks</th>\n",
              "      <th>avg_familiarity</th>\n",
              "      <th>avg_hotttnesss</th>\n",
              "      <th>artist_name</th>\n",
              "      <th>rank</th>\n",
              "      <th>centrality_rank</th>\n",
              "      <th>community</th>\n",
              "    </tr>\n",
              "  </thead>\n",
              "  <tbody>\n",
              "    <tr>\n",
              "      <th>6696</th>\n",
              "      <td>6696</td>\n",
              "      <td>ARFCUN31187B9AD578</td>\n",
              "      <td>230.693800</td>\n",
              "      <td>174</td>\n",
              "      <td>0.827890</td>\n",
              "      <td>0.744524</td>\n",
              "      <td>Chris Farlow</td>\n",
              "      <td>1</td>\n",
              "      <td>1.0</td>\n",
              "      <td>13.0</td>\n",
              "    </tr>\n",
              "    <tr>\n",
              "      <th>21273</th>\n",
              "      <td>21273</td>\n",
              "      <td>ARDIBRT1187B9AF176</td>\n",
              "      <td>400.008712</td>\n",
              "      <td>114</td>\n",
              "      <td>0.788992</td>\n",
              "      <td>0.638099</td>\n",
              "      <td>Led Zeppelin</td>\n",
              "      <td>1</td>\n",
              "      <td>2.0</td>\n",
              "      <td>4.0</td>\n",
              "    </tr>\n",
              "    <tr>\n",
              "      <th>27682</th>\n",
              "      <td>27682</td>\n",
              "      <td>ARNMM8611C8A415922</td>\n",
              "      <td>404.517724</td>\n",
              "      <td>18</td>\n",
              "      <td>0.533393</td>\n",
              "      <td>0.427150</td>\n",
              "      <td>Orjan Nilsen</td>\n",
              "      <td>1</td>\n",
              "      <td>3.0</td>\n",
              "      <td>41.0</td>\n",
              "    </tr>\n",
              "    <tr>\n",
              "      <th>24979</th>\n",
              "      <td>24979</td>\n",
              "      <td>ARVZU9D1187B9A899D</td>\n",
              "      <td>442.028390</td>\n",
              "      <td>24</td>\n",
              "      <td>0.510775</td>\n",
              "      <td>0.434798</td>\n",
              "      <td>Mike Foyle</td>\n",
              "      <td>1</td>\n",
              "      <td>4.0</td>\n",
              "      <td>41.0</td>\n",
              "    </tr>\n",
              "    <tr>\n",
              "      <th>36548</th>\n",
              "      <td>36548</td>\n",
              "      <td>AR6XZ861187FB4CECD</td>\n",
              "      <td>218.280502</td>\n",
              "      <td>59</td>\n",
              "      <td>0.840410</td>\n",
              "      <td>0.840463</td>\n",
              "      <td>The Beatles</td>\n",
              "      <td>1</td>\n",
              "      <td>5.0</td>\n",
              "      <td>1.0</td>\n",
              "    </tr>\n",
              "    <tr>\n",
              "      <th>26720</th>\n",
              "      <td>26720</td>\n",
              "      <td>ARBFQ7L1187B9ACD48</td>\n",
              "      <td>293.525558</td>\n",
              "      <td>129</td>\n",
              "      <td>0.744727</td>\n",
              "      <td>0.496130</td>\n",
              "      <td>Nico</td>\n",
              "      <td>1</td>\n",
              "      <td>6.0</td>\n",
              "      <td>1.0</td>\n",
              "    </tr>\n",
              "    <tr>\n",
              "      <th>33480</th>\n",
              "      <td>33480</td>\n",
              "      <td>ARJYIBO1187B9A312F</td>\n",
              "      <td>423.974456</td>\n",
              "      <td>38</td>\n",
              "      <td>0.576572</td>\n",
              "      <td>0.420185</td>\n",
              "      <td>Sinetone</td>\n",
              "      <td>1</td>\n",
              "      <td>7.0</td>\n",
              "      <td>41.0</td>\n",
              "    </tr>\n",
              "    <tr>\n",
              "      <th>26642</th>\n",
              "      <td>26642</td>\n",
              "      <td>ARJW50Q1187B98E5A4</td>\n",
              "      <td>484.575725</td>\n",
              "      <td>11</td>\n",
              "      <td>0.629300</td>\n",
              "      <td>0.417777</td>\n",
              "      <td>Nic Chagall</td>\n",
              "      <td>1</td>\n",
              "      <td>8.0</td>\n",
              "      <td>41.0</td>\n",
              "    </tr>\n",
              "    <tr>\n",
              "      <th>32653</th>\n",
              "      <td>32653</td>\n",
              "      <td>ARDLEWR119B866906A</td>\n",
              "      <td>436.764650</td>\n",
              "      <td>17</td>\n",
              "      <td>0.502518</td>\n",
              "      <td>0.382009</td>\n",
              "      <td>Sebastian Brandt</td>\n",
              "      <td>1</td>\n",
              "      <td>9.0</td>\n",
              "      <td>41.0</td>\n",
              "    </tr>\n",
              "    <tr>\n",
              "      <th>20443</th>\n",
              "      <td>20443</td>\n",
              "      <td>ARKO4ZW1187B98EA29</td>\n",
              "      <td>230.511003</td>\n",
              "      <td>15</td>\n",
              "      <td>0.675699</td>\n",
              "      <td>0.398687</td>\n",
              "      <td>Kool G Rap</td>\n",
              "      <td>1</td>\n",
              "      <td>10.0</td>\n",
              "      <td>8.0</td>\n",
              "    </tr>\n",
              "    <tr>\n",
              "      <th>26868</th>\n",
              "      <td>26868</td>\n",
              "      <td>ARDLS0D1187B9A51F3</td>\n",
              "      <td>445.529524</td>\n",
              "      <td>9</td>\n",
              "      <td>0.506246</td>\n",
              "      <td>0.384280</td>\n",
              "      <td>Nitrous Oxide</td>\n",
              "      <td>1</td>\n",
              "      <td>11.0</td>\n",
              "      <td>41.0</td>\n",
              "    </tr>\n",
              "    <tr>\n",
              "      <th>17915</th>\n",
              "      <td>17915</td>\n",
              "      <td>ARNH6Q11187FB40FDD</td>\n",
              "      <td>197.758755</td>\n",
              "      <td>66</td>\n",
              "      <td>0.664575</td>\n",
              "      <td>0.429944</td>\n",
              "      <td>Jeru The Damaja</td>\n",
              "      <td>1</td>\n",
              "      <td>12.0</td>\n",
              "      <td>8.0</td>\n",
              "    </tr>\n",
              "    <tr>\n",
              "      <th>24579</th>\n",
              "      <td>24579</td>\n",
              "      <td>AR470HW1187FB3B8DF</td>\n",
              "      <td>172.348935</td>\n",
              "      <td>40</td>\n",
              "      <td>0.650084</td>\n",
              "      <td>0.573630</td>\n",
              "      <td>Merl Haggard</td>\n",
              "      <td>1</td>\n",
              "      <td>13.0</td>\n",
              "      <td>14.0</td>\n",
              "    </tr>\n",
              "    <tr>\n",
              "      <th>38782</th>\n",
              "      <td>38782</td>\n",
              "      <td>AR3I2HS1187B9AC3BB</td>\n",
              "      <td>275.643628</td>\n",
              "      <td>5</td>\n",
              "      <td>0.705753</td>\n",
              "      <td>0.461987</td>\n",
              "      <td>The Velvet Underground / Nico</td>\n",
              "      <td>1</td>\n",
              "      <td>14.0</td>\n",
              "      <td>1.0</td>\n",
              "    </tr>\n",
              "    <tr>\n",
              "      <th>37610</th>\n",
              "      <td>37610</td>\n",
              "      <td>ARPHIME1187B9ACF4E</td>\n",
              "      <td>173.356826</td>\n",
              "      <td>36</td>\n",
              "      <td>0.751109</td>\n",
              "      <td>0.547105</td>\n",
              "      <td>The Kinks</td>\n",
              "      <td>1</td>\n",
              "      <td>15.0</td>\n",
              "      <td>1.0</td>\n",
              "    </tr>\n",
              "    <tr>\n",
              "      <th>35756</th>\n",
              "      <td>35756</td>\n",
              "      <td>ARPL51P1187FB4CE28</td>\n",
              "      <td>423.620771</td>\n",
              "      <td>32</td>\n",
              "      <td>0.629199</td>\n",
              "      <td>0.459443</td>\n",
              "      <td>T.O.C.</td>\n",
              "      <td>1</td>\n",
              "      <td>16.0</td>\n",
              "      <td>9.0</td>\n",
              "    </tr>\n",
              "    <tr>\n",
              "      <th>31923</th>\n",
              "      <td>31923</td>\n",
              "      <td>ARDVWO21187B9B1BF5</td>\n",
              "      <td>416.151057</td>\n",
              "      <td>20</td>\n",
              "      <td>0.632771</td>\n",
              "      <td>0.414306</td>\n",
              "      <td>SEAN TYAS</td>\n",
              "      <td>1</td>\n",
              "      <td>17.0</td>\n",
              "      <td>41.0</td>\n",
              "    </tr>\n",
              "    <tr>\n",
              "      <th>21207</th>\n",
              "      <td>21207</td>\n",
              "      <td>ARO4Z2L1187B9B732B</td>\n",
              "      <td>392.517643</td>\n",
              "      <td>12</td>\n",
              "      <td>0.532863</td>\n",
              "      <td>0.393676</td>\n",
              "      <td>Lazard</td>\n",
              "      <td>1</td>\n",
              "      <td>18.0</td>\n",
              "      <td>41.0</td>\n",
              "    </tr>\n",
              "    <tr>\n",
              "      <th>7876</th>\n",
              "      <td>7876</td>\n",
              "      <td>ARKDGZ71187FB3C455</td>\n",
              "      <td>472.236826</td>\n",
              "      <td>12</td>\n",
              "      <td>0.546177</td>\n",
              "      <td>0.417339</td>\n",
              "      <td>Curly Top</td>\n",
              "      <td>1</td>\n",
              "      <td>19.0</td>\n",
              "      <td>41.0</td>\n",
              "    </tr>\n",
              "    <tr>\n",
              "      <th>33334</th>\n",
              "      <td>33334</td>\n",
              "      <td>AR0DEZ91187B9B1BF7</td>\n",
              "      <td>495.197588</td>\n",
              "      <td>5</td>\n",
              "      <td>0.509195</td>\n",
              "      <td>0.373208</td>\n",
              "      <td>Signalrunners</td>\n",
              "      <td>1</td>\n",
              "      <td>20.0</td>\n",
              "      <td>41.0</td>\n",
              "    </tr>\n",
              "  </tbody>\n",
              "</table>\n",
              "</div>"
            ],
            "text/plain": [
              "       Unnamed: 0           artist_id  avg_duration  total_tracks  \\\n",
              "6696         6696  ARFCUN31187B9AD578    230.693800           174   \n",
              "21273       21273  ARDIBRT1187B9AF176    400.008712           114   \n",
              "27682       27682  ARNMM8611C8A415922    404.517724            18   \n",
              "24979       24979  ARVZU9D1187B9A899D    442.028390            24   \n",
              "36548       36548  AR6XZ861187FB4CECD    218.280502            59   \n",
              "26720       26720  ARBFQ7L1187B9ACD48    293.525558           129   \n",
              "33480       33480  ARJYIBO1187B9A312F    423.974456            38   \n",
              "26642       26642  ARJW50Q1187B98E5A4    484.575725            11   \n",
              "32653       32653  ARDLEWR119B866906A    436.764650            17   \n",
              "20443       20443  ARKO4ZW1187B98EA29    230.511003            15   \n",
              "26868       26868  ARDLS0D1187B9A51F3    445.529524             9   \n",
              "17915       17915  ARNH6Q11187FB40FDD    197.758755            66   \n",
              "24579       24579  AR470HW1187FB3B8DF    172.348935            40   \n",
              "38782       38782  AR3I2HS1187B9AC3BB    275.643628             5   \n",
              "37610       37610  ARPHIME1187B9ACF4E    173.356826            36   \n",
              "35756       35756  ARPL51P1187FB4CE28    423.620771            32   \n",
              "31923       31923  ARDVWO21187B9B1BF5    416.151057            20   \n",
              "21207       21207  ARO4Z2L1187B9B732B    392.517643            12   \n",
              "7876         7876  ARKDGZ71187FB3C455    472.236826            12   \n",
              "33334       33334  AR0DEZ91187B9B1BF7    495.197588             5   \n",
              "\n",
              "       avg_familiarity  avg_hotttnesss                    artist_name  rank  \\\n",
              "6696          0.827890        0.744524                   Chris Farlow     1   \n",
              "21273         0.788992        0.638099                   Led Zeppelin     1   \n",
              "27682         0.533393        0.427150                   Orjan Nilsen     1   \n",
              "24979         0.510775        0.434798                     Mike Foyle     1   \n",
              "36548         0.840410        0.840463                    The Beatles     1   \n",
              "26720         0.744727        0.496130                           Nico     1   \n",
              "33480         0.576572        0.420185                       Sinetone     1   \n",
              "26642         0.629300        0.417777                    Nic Chagall     1   \n",
              "32653         0.502518        0.382009               Sebastian Brandt     1   \n",
              "20443         0.675699        0.398687                     Kool G Rap     1   \n",
              "26868         0.506246        0.384280                  Nitrous Oxide     1   \n",
              "17915         0.664575        0.429944                Jeru The Damaja     1   \n",
              "24579         0.650084        0.573630                   Merl Haggard     1   \n",
              "38782         0.705753        0.461987  The Velvet Underground / Nico     1   \n",
              "37610         0.751109        0.547105                      The Kinks     1   \n",
              "35756         0.629199        0.459443                         T.O.C.     1   \n",
              "31923         0.632771        0.414306                      SEAN TYAS     1   \n",
              "21207         0.532863        0.393676                         Lazard     1   \n",
              "7876          0.546177        0.417339                      Curly Top     1   \n",
              "33334         0.509195        0.373208                  Signalrunners     1   \n",
              "\n",
              "       centrality_rank  community  \n",
              "6696               1.0       13.0  \n",
              "21273              2.0        4.0  \n",
              "27682              3.0       41.0  \n",
              "24979              4.0       41.0  \n",
              "36548              5.0        1.0  \n",
              "26720              6.0        1.0  \n",
              "33480              7.0       41.0  \n",
              "26642              8.0       41.0  \n",
              "32653              9.0       41.0  \n",
              "20443             10.0        8.0  \n",
              "26868             11.0       41.0  \n",
              "17915             12.0        8.0  \n",
              "24579             13.0       14.0  \n",
              "38782             14.0        1.0  \n",
              "37610             15.0        1.0  \n",
              "35756             16.0        9.0  \n",
              "31923             17.0       41.0  \n",
              "21207             18.0       41.0  \n",
              "7876              19.0       41.0  \n",
              "33334             20.0       41.0  "
            ]
          },
          "execution_count": 39,
          "metadata": {},
          "output_type": "execute_result"
        }
      ],
      "source": [
        "#sanity check that artists with highest centrality rank are more well known\n",
        "nodes.sort_values(by='centrality_rank').head(20)\n",
        "#seems like, they are old but classic, so it makes some sense"
      ]
    },
    {
      "cell_type": "code",
      "execution_count": 40,
      "metadata": {
        "id": "bpkL8HNvm7d8"
      },
      "outputs": [],
      "source": [
        "#export to csv\n",
        "nodes.to_csv(\"nodes_with_clusters.csv\")"
      ]
    },
    {
      "cell_type": "code",
      "execution_count": 45,
      "metadata": {},
      "outputs": [
        {
          "data": {
            "text/html": [
              "<div>\n",
              "<style scoped>\n",
              "    .dataframe tbody tr th:only-of-type {\n",
              "        vertical-align: middle;\n",
              "    }\n",
              "\n",
              "    .dataframe tbody tr th {\n",
              "        vertical-align: top;\n",
              "    }\n",
              "\n",
              "    .dataframe thead th {\n",
              "        text-align: right;\n",
              "    }\n",
              "</style>\n",
              "<table border=\"1\" class=\"dataframe\">\n",
              "  <thead>\n",
              "    <tr style=\"text-align: right;\">\n",
              "      <th></th>\n",
              "      <th>artist_name</th>\n",
              "      <th>avg_familiarity</th>\n",
              "      <th>centrality_rank</th>\n",
              "    </tr>\n",
              "  </thead>\n",
              "  <tbody>\n",
              "    <tr>\n",
              "      <th>6696</th>\n",
              "      <td>Chris Farlow</td>\n",
              "      <td>0.827890</td>\n",
              "      <td>1.0</td>\n",
              "    </tr>\n",
              "    <tr>\n",
              "      <th>21273</th>\n",
              "      <td>Led Zeppelin</td>\n",
              "      <td>0.788992</td>\n",
              "      <td>2.0</td>\n",
              "    </tr>\n",
              "    <tr>\n",
              "      <th>27682</th>\n",
              "      <td>Orjan Nilsen</td>\n",
              "      <td>0.533393</td>\n",
              "      <td>3.0</td>\n",
              "    </tr>\n",
              "    <tr>\n",
              "      <th>24979</th>\n",
              "      <td>Mike Foyle</td>\n",
              "      <td>0.510775</td>\n",
              "      <td>4.0</td>\n",
              "    </tr>\n",
              "    <tr>\n",
              "      <th>36548</th>\n",
              "      <td>The Beatles</td>\n",
              "      <td>0.840410</td>\n",
              "      <td>5.0</td>\n",
              "    </tr>\n",
              "    <tr>\n",
              "      <th>26720</th>\n",
              "      <td>Nico</td>\n",
              "      <td>0.744727</td>\n",
              "      <td>6.0</td>\n",
              "    </tr>\n",
              "    <tr>\n",
              "      <th>33480</th>\n",
              "      <td>Sinetone</td>\n",
              "      <td>0.576572</td>\n",
              "      <td>7.0</td>\n",
              "    </tr>\n",
              "    <tr>\n",
              "      <th>26642</th>\n",
              "      <td>Nic Chagall</td>\n",
              "      <td>0.629300</td>\n",
              "      <td>8.0</td>\n",
              "    </tr>\n",
              "    <tr>\n",
              "      <th>32653</th>\n",
              "      <td>Sebastian Brandt</td>\n",
              "      <td>0.502518</td>\n",
              "      <td>9.0</td>\n",
              "    </tr>\n",
              "    <tr>\n",
              "      <th>20443</th>\n",
              "      <td>Kool G Rap</td>\n",
              "      <td>0.675699</td>\n",
              "      <td>10.0</td>\n",
              "    </tr>\n",
              "    <tr>\n",
              "      <th>26868</th>\n",
              "      <td>Nitrous Oxide</td>\n",
              "      <td>0.506246</td>\n",
              "      <td>11.0</td>\n",
              "    </tr>\n",
              "    <tr>\n",
              "      <th>17915</th>\n",
              "      <td>Jeru The Damaja</td>\n",
              "      <td>0.664575</td>\n",
              "      <td>12.0</td>\n",
              "    </tr>\n",
              "    <tr>\n",
              "      <th>24579</th>\n",
              "      <td>Merl Haggard</td>\n",
              "      <td>0.650084</td>\n",
              "      <td>13.0</td>\n",
              "    </tr>\n",
              "    <tr>\n",
              "      <th>38782</th>\n",
              "      <td>The Velvet Underground / Nico</td>\n",
              "      <td>0.705753</td>\n",
              "      <td>14.0</td>\n",
              "    </tr>\n",
              "    <tr>\n",
              "      <th>37610</th>\n",
              "      <td>The Kinks</td>\n",
              "      <td>0.751109</td>\n",
              "      <td>15.0</td>\n",
              "    </tr>\n",
              "    <tr>\n",
              "      <th>35756</th>\n",
              "      <td>T.O.C.</td>\n",
              "      <td>0.629199</td>\n",
              "      <td>16.0</td>\n",
              "    </tr>\n",
              "    <tr>\n",
              "      <th>31923</th>\n",
              "      <td>SEAN TYAS</td>\n",
              "      <td>0.632771</td>\n",
              "      <td>17.0</td>\n",
              "    </tr>\n",
              "    <tr>\n",
              "      <th>21207</th>\n",
              "      <td>Lazard</td>\n",
              "      <td>0.532863</td>\n",
              "      <td>18.0</td>\n",
              "    </tr>\n",
              "    <tr>\n",
              "      <th>7876</th>\n",
              "      <td>Curly Top</td>\n",
              "      <td>0.546177</td>\n",
              "      <td>19.0</td>\n",
              "    </tr>\n",
              "    <tr>\n",
              "      <th>33334</th>\n",
              "      <td>Signalrunners</td>\n",
              "      <td>0.509195</td>\n",
              "      <td>20.0</td>\n",
              "    </tr>\n",
              "  </tbody>\n",
              "</table>\n",
              "</div>"
            ],
            "text/plain": [
              "                         artist_name  avg_familiarity  centrality_rank\n",
              "6696                    Chris Farlow         0.827890              1.0\n",
              "21273                   Led Zeppelin         0.788992              2.0\n",
              "27682                   Orjan Nilsen         0.533393              3.0\n",
              "24979                     Mike Foyle         0.510775              4.0\n",
              "36548                    The Beatles         0.840410              5.0\n",
              "26720                           Nico         0.744727              6.0\n",
              "33480                       Sinetone         0.576572              7.0\n",
              "26642                    Nic Chagall         0.629300              8.0\n",
              "32653               Sebastian Brandt         0.502518              9.0\n",
              "20443                     Kool G Rap         0.675699             10.0\n",
              "26868                  Nitrous Oxide         0.506246             11.0\n",
              "17915                Jeru The Damaja         0.664575             12.0\n",
              "24579                   Merl Haggard         0.650084             13.0\n",
              "38782  The Velvet Underground / Nico         0.705753             14.0\n",
              "37610                      The Kinks         0.751109             15.0\n",
              "35756                         T.O.C.         0.629199             16.0\n",
              "31923                      SEAN TYAS         0.632771             17.0\n",
              "21207                         Lazard         0.532863             18.0\n",
              "7876                       Curly Top         0.546177             19.0\n",
              "33334                  Signalrunners         0.509195             20.0"
            ]
          },
          "execution_count": 45,
          "metadata": {},
          "output_type": "execute_result"
        }
      ],
      "source": [
        "#sanity check that artists with highest centrality rank are more well known\n",
        "sorted_nodes = nodes.sort_values(by='centrality_rank')\n",
        "# sorted_nodes.head(20)\n",
        "sorted_nodes[['artist_name', 'avg_familiarity', 'centrality_rank']].head(20)\n",
        "#seems like, they are old but classic, so it makes some sense"
      ]
    }
  ],
  "metadata": {
    "colab": {
      "provenance": []
    },
    "kernelspec": {
      "display_name": "Python 3",
      "language": "python",
      "name": "python3"
    },
    "language_info": {
      "codemirror_mode": {
        "name": "ipython",
        "version": 3
      },
      "file_extension": ".py",
      "mimetype": "text/x-python",
      "name": "python",
      "nbconvert_exporter": "python",
      "pygments_lexer": "ipython3",
      "version": "3.9.6"
    },
    "vscode": {
      "interpreter": {
        "hash": "31f2aee4e71d21fbe5cf8b01ff0e069b9275f58929596ceb00d14d90e3e16cd6"
      }
    }
  },
  "nbformat": 4,
  "nbformat_minor": 0
}
