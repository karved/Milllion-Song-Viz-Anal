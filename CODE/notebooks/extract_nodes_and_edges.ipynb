{
 "cells": [
  {
   "cell_type": "markdown",
   "id": "6b4e412b",
   "metadata": {},
   "source": [
    "# Script to extract nodes and edges from the Million Song Dataset\n",
    "\n",
    "### Import the required libraries"
   ]
  },
  {
   "cell_type": "code",
   "execution_count": 1,
   "id": "0a8c43ad",
   "metadata": {},
   "outputs": [],
   "source": [
    "import sqlite3\n",
    "import pandas as pd\n",
    "import numpy as np"
   ]
  },
  {
   "cell_type": "code",
   "execution_count": 2,
   "id": "339486bf",
   "metadata": {},
   "outputs": [],
   "source": [
    "import findspark\n",
    "findspark.init()\n",
    "import pyspark"
   ]
  },
  {
   "cell_type": "code",
   "execution_count": 3,
   "id": "e97aa90d",
   "metadata": {},
   "outputs": [],
   "source": [
    "from pyspark.sql import SparkSession\n",
    "from pyspark.sql import SQLContext\n",
    "from pyspark.sql.functions import *\n",
    "from pyspark.sql import functions as F\n",
    "from pyspark.sql.window import Window\n",
    "from pyspark.sql.functions import rank, col"
   ]
  },
  {
   "cell_type": "markdown",
   "id": "dd87f14c",
   "metadata": {},
   "source": [
    "### Create a Spark Session"
   ]
  },
  {
   "cell_type": "code",
   "execution_count": 4,
   "id": "12aeb25e",
   "metadata": {},
   "outputs": [],
   "source": [
    "# sc = pyspark.SparkContext(appName=\"dataset_creation\")\n",
    "# sqlContext = SQLContext(sc)\n",
    "spark = SparkSession.builder \\\n",
    "    .master(\"local[1]\") \\\n",
    "    .appName(\"dataset_creation\") \\\n",
    "    .getOrCreate()"
   ]
  },
  {
   "cell_type": "code",
   "execution_count": 5,
   "id": "69f07546",
   "metadata": {},
   "outputs": [],
   "source": [
    "# sc.stop()\n",
    "# spark.stop()"
   ]
  },
  {
   "cell_type": "markdown",
   "id": "8e625d25",
   "metadata": {},
   "source": [
    "## Extract node data\n",
    "\n",
    "### Read data"
   ]
  },
  {
   "cell_type": "code",
   "execution_count": 6,
   "id": "7bf5a270",
   "metadata": {},
   "outputs": [],
   "source": [
    "# set the path to 'track_metadata.db' file here\n",
    "track_metadata_db_path = \"C:\\\\Users\\\\mgandhi39\\\\Downloads\\\\DVA Project\\\\Dataset\\MSD\\\\track_metadata.db\""
   ]
  },
  {
   "cell_type": "code",
   "execution_count": 7,
   "id": "5a9abb62",
   "metadata": {},
   "outputs": [],
   "source": [
    "conn = sqlite3.connect(track_metadata_db_path)\n",
    "cursor = conn.cursor()"
   ]
  },
  {
   "cell_type": "code",
   "execution_count": 8,
   "id": "9f863997",
   "metadata": {},
   "outputs": [
    {
     "name": "stdout",
     "output_type": "stream",
     "text": [
      "[('songs',)]\n"
     ]
    }
   ],
   "source": [
    "query = 'SELECT name FROM sqlite_master WHERE type=\"table\"'\n",
    "cursor.execute(query)\n",
    "print(cursor.fetchall())"
   ]
  },
  {
   "cell_type": "code",
   "execution_count": 9,
   "id": "3b7548ef",
   "metadata": {},
   "outputs": [],
   "source": [
    "query = \"SELECT * FROM songs\"\n",
    "pandas_df = pd.read_sql_query(query, conn)"
   ]
  },
  {
   "cell_type": "code",
   "execution_count": 10,
   "id": "7486029a",
   "metadata": {},
   "outputs": [],
   "source": [
    "# trim the data to smaller size for testing\n",
    "no_of_records = 1000000\n",
    "trimmed_pandas_df = pandas_df[:no_of_records]"
   ]
  },
  {
   "cell_type": "code",
   "execution_count": 11,
   "id": "b5b57fed",
   "metadata": {},
   "outputs": [
    {
     "name": "stderr",
     "output_type": "stream",
     "text": [
      "C:\\Spark\\spark-3.3.2-bin-hadoop3\\python\\pyspark\\sql\\pandas\\conversion.py:474: FutureWarning: iteritems is deprecated and will be removed in a future version. Use .items instead.\n",
      "  for column, series in pdf.iteritems():\n",
      "C:\\Spark\\spark-3.3.2-bin-hadoop3\\python\\pyspark\\sql\\pandas\\conversion.py:486: FutureWarning: iteritems is deprecated and will be removed in a future version. Use .items instead.\n",
      "  for column, series in pdf.iteritems():\n"
     ]
    }
   ],
   "source": [
    "# this step takes a while to run \n",
    "# TO DO: find a better way to read data from .db file to spark\n",
    "spark_df = spark.createDataFrame(pandas_df)"
   ]
  },
  {
   "cell_type": "code",
   "execution_count": 12,
   "id": "c6f675e2",
   "metadata": {},
   "outputs": [],
   "source": [
    "# spark_df.limit(5).toPandas().head()"
   ]
  },
  {
   "cell_type": "markdown",
   "id": "e58b3f1d",
   "metadata": {},
   "source": [
    "### Group by artist_id and aggregate fields"
   ]
  },
  {
   "cell_type": "code",
   "execution_count": 13,
   "id": "ae5030c1",
   "metadata": {},
   "outputs": [],
   "source": [
    "# artists2 = spark_df.groupby(\"artist_id\").agg({F.count(spark_df[\"track_id\"]).alias(\"total_songs\"), F.avg(spark_df[\"duration\"]).alias(\"avg_duration\"), F.avg(spark_df[\"artist_hotttnesss\"]).alias(\"avg_hotttness\"), F.avg(spark_df[\"artist_familiarity\"]).alias(\"avg_familiarity\"), F.min(spark_df[\"year\"]).alias(\"oldest_track_year\"), F.max(spark_df[\"year\"]).alias(\"latest_track_year\")})\n",
    "artists = spark_df.groupby(\"artist_id\").agg({\"track_id\": \"count\", \"duration\": \"avg\", \"artist_hotttnesss\": \"avg\", \"artist_familiarity\": \"avg\"})\n",
    "artists = artists.withColumnRenamed(\"avg(duration)\", \"avg_duration\").withColumnRenamed(\"count(track_id)\", \"total_tracks\").withColumnRenamed(\"avg(artist_familiarity)\", \"avg_familiarity\").withColumnRenamed(\"avg(artist_hotttnesss)\", \"avg_hotttnesss\")"
   ]
  },
  {
   "cell_type": "code",
   "execution_count": 14,
   "id": "a36fbc1c",
   "metadata": {},
   "outputs": [],
   "source": [
    "# artists.limit(10).toPandas().head()"
   ]
  },
  {
   "cell_type": "code",
   "execution_count": 15,
   "id": "90a20c2d",
   "metadata": {},
   "outputs": [],
   "source": [
    "# artists.summary().show()"
   ]
  },
  {
   "cell_type": "markdown",
   "id": "92802a03",
   "metadata": {},
   "source": [
    "### Add artist_name to the extracted data\n",
    "An artist_id may correspond to more than one artist_name i.e. artist_name is not unique. This is because artist of a track can be 'Abc ft. Xyz'. So we keep the name which is of the shortest length.\n"
   ]
  },
  {
   "cell_type": "code",
   "execution_count": 16,
   "id": "9fc9f1b2",
   "metadata": {},
   "outputs": [],
   "source": [
    "artist_names = spark_df.groupby([\"artist_id\", \"artist_name\"]).count()"
   ]
  },
  {
   "cell_type": "code",
   "execution_count": 17,
   "id": "78b8bf4a",
   "metadata": {},
   "outputs": [],
   "source": [
    "# artist_names.show()"
   ]
  },
  {
   "cell_type": "code",
   "execution_count": 18,
   "id": "17752d69",
   "metadata": {},
   "outputs": [],
   "source": [
    "# artist_names.summary().show()"
   ]
  },
  {
   "cell_type": "code",
   "execution_count": 19,
   "id": "4bbc0226",
   "metadata": {},
   "outputs": [],
   "source": [
    "window = Window.partitionBy(artist_names[\"artist_id\"]).orderBy(length(artist_names[\"artist_name\"]))\n",
    "unique_artist_names = artist_names.select('*', row_number().over(window).alias('rank')).filter(col('rank') == 1)\n",
    "unique_artist_names = unique_artist_names.drop(\"count\").drop(\"rank\").withColumnRenamed(\"artist_id\", \"id\")"
   ]
  },
  {
   "cell_type": "code",
   "execution_count": 20,
   "id": "3ce6c983",
   "metadata": {},
   "outputs": [],
   "source": [
    "# unique_artist_names.limit(5).toPandas().head()"
   ]
  },
  {
   "cell_type": "code",
   "execution_count": 21,
   "id": "c062ab39",
   "metadata": {},
   "outputs": [
    {
     "data": {
      "text/plain": [
       "44745"
      ]
     },
     "execution_count": 21,
     "metadata": {},
     "output_type": "execute_result"
    }
   ],
   "source": [
    "unique_artist_names.count()"
   ]
  },
  {
   "cell_type": "code",
   "execution_count": 22,
   "id": "1408329a",
   "metadata": {},
   "outputs": [],
   "source": [
    "node_data = artists.join(unique_artist_names, artists[\"artist_id\"] == unique_artist_names[\"id\"], \"inner\").drop(\"id\")"
   ]
  },
  {
   "cell_type": "code",
   "execution_count": 23,
   "id": "b84c8b69",
   "metadata": {},
   "outputs": [],
   "source": [
    "# node_data.limit(10).toPandas().head()"
   ]
  },
  {
   "cell_type": "code",
   "execution_count": 24,
   "id": "a9c0046c",
   "metadata": {},
   "outputs": [],
   "source": [
    "# node_data.summary().show()"
   ]
  },
  {
   "cell_type": "code",
   "execution_count": 25,
   "id": "255bf24d",
   "metadata": {},
   "outputs": [],
   "source": [
    "# TO DO\n",
    "# create links between colaborators"
   ]
  },
  {
   "cell_type": "markdown",
   "id": "4cf8c56c",
   "metadata": {},
   "source": [
    "### Keep only one of the duplicate artists"
   ]
  },
  {
   "cell_type": "code",
   "execution_count": 26,
   "id": "e478dd4b",
   "metadata": {},
   "outputs": [],
   "source": [
    "# nodes_to_remove = node_data.groupby(\"artist_name\").count().where(col(\"count\") > 1)"
   ]
  },
  {
   "cell_type": "code",
   "execution_count": 27,
   "id": "6da0b607",
   "metadata": {},
   "outputs": [],
   "source": [
    "# nodes_to_remove.show()"
   ]
  },
  {
   "cell_type": "code",
   "execution_count": 28,
   "id": "64f69424",
   "metadata": {},
   "outputs": [],
   "source": [
    "# nodes_to_remove.count()"
   ]
  },
  {
   "cell_type": "code",
   "execution_count": 29,
   "id": "d9a49325",
   "metadata": {},
   "outputs": [],
   "source": [
    "window2 = Window.partitionBy(col(\"artist_name\")).orderBy(desc(col(\"total_tracks\")))\n",
    "corrected_nodes_data = node_data.select(\"*\", row_number().over(window2).alias(\"rank\")).filter(col(\"rank\") == 1)"
   ]
  },
  {
   "cell_type": "code",
   "execution_count": 30,
   "id": "738d6904",
   "metadata": {},
   "outputs": [],
   "source": [
    "# corrected_nodes_data.limit(5).toPandas().head()"
   ]
  },
  {
   "cell_type": "code",
   "execution_count": 31,
   "id": "d4f70145",
   "metadata": {},
   "outputs": [
    {
     "data": {
      "text/plain": [
       "42916"
      ]
     },
     "execution_count": 31,
     "metadata": {},
     "output_type": "execute_result"
    }
   ],
   "source": [
    "corrected_nodes_data.count()"
   ]
  },
  {
   "cell_type": "markdown",
   "id": "9e833455",
   "metadata": {},
   "source": [
    "### Output node data to CSV"
   ]
  },
  {
   "cell_type": "code",
   "execution_count": 32,
   "id": "daec95fa",
   "metadata": {},
   "outputs": [],
   "source": [
    "# set nodes.csv output path here\n",
    "node_data_output_path = \"C:\\\\Users\\\\mgandhi39\\\\Downloads\\\\DVA Project\\\\Dataset\\\\nodes.csv\""
   ]
  },
  {
   "cell_type": "code",
   "execution_count": null,
   "id": "5146b499",
   "metadata": {},
   "outputs": [],
   "source": [
    "corrected_nodes_data.toPandas().to_csv(node_data_output_path)"
   ]
  },
  {
   "cell_type": "markdown",
   "id": "2ff76486",
   "metadata": {},
   "source": [
    "## Extract edge data\n",
    "\n",
    "### Read Data and extract edges"
   ]
  },
  {
   "cell_type": "code",
   "execution_count": 33,
   "id": "ac76ffaa",
   "metadata": {},
   "outputs": [],
   "source": [
    "# set the path to 'artist_similarity.db' file here\n",
    "artist_similarity_db_path = \"C:\\\\Users\\\\mgandhi39\\\\Downloads\\\\DVA Project\\\\Dataset\\MSD\\\\artist_similarity.db\""
   ]
  },
  {
   "cell_type": "code",
   "execution_count": 34,
   "id": "03765394",
   "metadata": {},
   "outputs": [],
   "source": [
    "conn2 = sqlite3.connect(artist_similarity_db_path)\n",
    "cursor2 = conn2.cursor()"
   ]
  },
  {
   "cell_type": "code",
   "execution_count": 35,
   "id": "117f31cd",
   "metadata": {},
   "outputs": [
    {
     "name": "stdout",
     "output_type": "stream",
     "text": [
      "[('artists',), ('similarity',)]\n"
     ]
    }
   ],
   "source": [
    "query = 'SELECT name FROM sqlite_master WHERE type=\"table\"'\n",
    "cursor2.execute(query)\n",
    "print(cursor2.fetchall())"
   ]
  },
  {
   "cell_type": "code",
   "execution_count": 36,
   "id": "63272a0e",
   "metadata": {},
   "outputs": [],
   "source": [
    "pd_edges = pd.read_sql_query('SELECT * FROM similarity', conn2)\n",
    "pd_edges[\"index\"] = range(1, len(pd_edges) + 1)"
   ]
  },
  {
   "cell_type": "code",
   "execution_count": 37,
   "id": "e71d15d3",
   "metadata": {},
   "outputs": [
    {
     "name": "stderr",
     "output_type": "stream",
     "text": [
      "C:\\Spark\\spark-3.3.2-bin-hadoop3\\python\\pyspark\\sql\\pandas\\conversion.py:474: FutureWarning: iteritems is deprecated and will be removed in a future version. Use .items instead.\n",
      "  for column, series in pdf.iteritems():\n",
      "C:\\Spark\\spark-3.3.2-bin-hadoop3\\python\\pyspark\\sql\\pandas\\conversion.py:486: FutureWarning: iteritems is deprecated and will be removed in a future version. Use .items instead.\n",
      "  for column, series in pdf.iteritems():\n"
     ]
    }
   ],
   "source": [
    "spark_edges = spark.createDataFrame(pd_edges)\n",
    "spark_edges = spark_edges.withColumnRenamed(\"target\", \"source_artist_id\").withColumnRenamed(\"similar\",\"target_artist_id\")"
   ]
  },
  {
   "cell_type": "code",
   "execution_count": 38,
   "id": "5399c25d",
   "metadata": {},
   "outputs": [],
   "source": [
    "window3 = Window.partitionBy(\"source_artist_id\").orderBy(\"index\")\n",
    "edge_data = spark_edges.select(\"*\", row_number().over(window3).alias(\"priority\")).drop(\"index\")"
   ]
  },
  {
   "cell_type": "code",
   "execution_count": 39,
   "id": "7ecd21c9",
   "metadata": {
    "scrolled": true
   },
   "outputs": [],
   "source": [
    "# edge_data.limit(5).toPandas().head()"
   ]
  },
  {
   "cell_type": "code",
   "execution_count": 40,
   "id": "26daf305",
   "metadata": {},
   "outputs": [
    {
     "data": {
      "text/plain": [
       "2201916"
      ]
     },
     "execution_count": 40,
     "metadata": {},
     "output_type": "execute_result"
    }
   ],
   "source": [
    "edge_data.count()"
   ]
  },
  {
   "cell_type": "markdown",
   "id": "db962647",
   "metadata": {},
   "source": [
    "### Keep only one of the duplicate artists"
   ]
  },
  {
   "cell_type": "code",
   "execution_count": 48,
   "id": "5b7a300c",
   "metadata": {},
   "outputs": [],
   "source": [
    "corrected_edge_data = edge_data.join(corrected_nodes_data, edge_data[\"source_artist_id\"] == corrected_nodes_data[\"artist_id\"], 'leftsemi')"
   ]
  },
  {
   "cell_type": "code",
   "execution_count": 49,
   "id": "ae2f03b1",
   "metadata": {},
   "outputs": [],
   "source": [
    "# corrected_edge_data.limit(5).toPandas().head()"
   ]
  },
  {
   "cell_type": "code",
   "execution_count": 50,
   "id": "e9bdd4f5",
   "metadata": {},
   "outputs": [
    {
     "data": {
      "text/plain": [
       "2107199"
      ]
     },
     "execution_count": 50,
     "metadata": {},
     "output_type": "execute_result"
    }
   ],
   "source": [
    "corrected_edge_data.count()"
   ]
  },
  {
   "cell_type": "code",
   "execution_count": 51,
   "id": "03d48448",
   "metadata": {},
   "outputs": [],
   "source": [
    "corrected_edge_data = corrected_edge_data.join(corrected_nodes_data, edge_data[\"target_artist_id\"] == corrected_nodes_data[\"artist_id\"], 'leftsemi')"
   ]
  },
  {
   "cell_type": "code",
   "execution_count": 52,
   "id": "eef57068",
   "metadata": {},
   "outputs": [
    {
     "data": {
      "text/plain": [
       "2002865"
      ]
     },
     "execution_count": 52,
     "metadata": {},
     "output_type": "execute_result"
    }
   ],
   "source": [
    "corrected_edge_data.count()"
   ]
  },
  {
   "cell_type": "markdown",
   "id": "8f38cbd2",
   "metadata": {},
   "source": [
    "### Output edge data to CSV"
   ]
  },
  {
   "cell_type": "code",
   "execution_count": 53,
   "id": "e2b1e536",
   "metadata": {},
   "outputs": [],
   "source": [
    "# set edges.csv output path here\n",
    "edge_data_output_path = \"C:\\\\Users\\\\mgandhi39\\\\Downloads\\\\DVA Project\\\\Dataset\\edges.csv\""
   ]
  },
  {
   "cell_type": "code",
   "execution_count": 54,
   "id": "8ee69ab0",
   "metadata": {},
   "outputs": [],
   "source": [
    "corrected_edge_data.toPandas().to_csv(edge_data_output_path)"
   ]
  },
  {
   "cell_type": "code",
   "execution_count": null,
   "id": "a1b95774",
   "metadata": {},
   "outputs": [],
   "source": []
  }
 ],
 "metadata": {
  "kernelspec": {
   "display_name": "env1",
   "language": "python",
   "name": "env1"
  },
  "language_info": {
   "codemirror_mode": {
    "name": "ipython",
    "version": 3
   },
   "file_extension": ".py",
   "mimetype": "text/x-python",
   "name": "python",
   "nbconvert_exporter": "python",
   "pygments_lexer": "ipython3",
   "version": "3.10.10"
  }
 },
 "nbformat": 4,
 "nbformat_minor": 5
}
