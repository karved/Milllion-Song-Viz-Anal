{
 "cells": [
  {
   "cell_type": "markdown",
   "id": "6b4e412b",
   "metadata": {},
   "source": [
    "# Script to combine MusicxMatch Lyrics data with the Million Song Dataset\n",
    "\n",
    "### Import the required libraries"
   ]
  },
  {
   "cell_type": "code",
   "execution_count": 1,
   "id": "0a8c43ad",
   "metadata": {},
   "outputs": [],
   "source": [
    "import sqlite3\n",
    "import pandas as pd\n",
    "import numpy as np"
   ]
  },
  {
   "cell_type": "code",
   "execution_count": 2,
   "id": "339486bf",
   "metadata": {},
   "outputs": [],
   "source": [
    "import findspark\n",
    "findspark.init()\n",
    "import pyspark"
   ]
  },
  {
   "cell_type": "code",
   "execution_count": 3,
   "id": "e97aa90d",
   "metadata": {},
   "outputs": [],
   "source": [
    "from pyspark.sql import SparkSession\n",
    "from pyspark.sql import SQLContext\n",
    "from pyspark.sql.functions import *\n",
    "from pyspark.sql import functions as F\n",
    "from pyspark.sql.window import Window\n",
    "from pyspark.sql.functions import rank, col"
   ]
  },
  {
   "cell_type": "markdown",
   "id": "dd87f14c",
   "metadata": {},
   "source": [
    "### Create a Spark Session"
   ]
  },
  {
   "cell_type": "code",
   "execution_count": 4,
   "id": "12aeb25e",
   "metadata": {},
   "outputs": [],
   "source": [
    "# sc = pyspark.SparkContext(appName=\"dataset_creation\")\n",
    "# sqlContext = SQLContext(sc)\n",
    "spark = SparkSession.builder \\\n",
    "    .master(\"local[1]\") \\\n",
    "    .appName(\"lyrics_dataset_creation\") \\\n",
    "    .getOrCreate()"
   ]
  },
  {
   "cell_type": "code",
   "execution_count": 5,
   "id": "69f07546",
   "metadata": {},
   "outputs": [],
   "source": [
    "# sc.stop()\n",
    "# spark.stop()"
   ]
  },
  {
   "cell_type": "markdown",
   "id": "8e625d25",
   "metadata": {},
   "source": [
    "## Read data\n",
    "\n",
    "### Song Data from MSD"
   ]
  },
  {
   "cell_type": "code",
   "execution_count": 6,
   "id": "7bf5a270",
   "metadata": {},
   "outputs": [],
   "source": [
    "# set the path to 'track_metadata.db' file here\n",
    "track_metadata_db_path = \"C:\\\\Users\\\\mgandhi39\\\\Downloads\\\\DVA Project\\\\Dataset\\MSD\\\\track_metadata.db\""
   ]
  },
  {
   "cell_type": "code",
   "execution_count": 7,
   "id": "5a9abb62",
   "metadata": {},
   "outputs": [],
   "source": [
    "conn = sqlite3.connect(track_metadata_db_path)\n",
    "cursor = conn.cursor()"
   ]
  },
  {
   "cell_type": "code",
   "execution_count": 8,
   "id": "9f863997",
   "metadata": {},
   "outputs": [
    {
     "name": "stdout",
     "output_type": "stream",
     "text": [
      "[('songs',)]\n"
     ]
    }
   ],
   "source": [
    "query = 'SELECT name FROM sqlite_master WHERE type=\"table\"'\n",
    "cursor.execute(query)\n",
    "print(cursor.fetchall())"
   ]
  },
  {
   "cell_type": "code",
   "execution_count": 9,
   "id": "3b7548ef",
   "metadata": {},
   "outputs": [],
   "source": [
    "query = \"SELECT * FROM songs\"\n",
    "pd_songs = pd.read_sql_query(query, conn)"
   ]
  },
  {
   "cell_type": "code",
   "execution_count": 10,
   "id": "c6f675e2",
   "metadata": {},
   "outputs": [
    {
     "data": {
      "text/html": [
       "<div>\n",
       "<style scoped>\n",
       "    .dataframe tbody tr th:only-of-type {\n",
       "        vertical-align: middle;\n",
       "    }\n",
       "\n",
       "    .dataframe tbody tr th {\n",
       "        vertical-align: top;\n",
       "    }\n",
       "\n",
       "    .dataframe thead th {\n",
       "        text-align: right;\n",
       "    }\n",
       "</style>\n",
       "<table border=\"1\" class=\"dataframe\">\n",
       "  <thead>\n",
       "    <tr style=\"text-align: right;\">\n",
       "      <th></th>\n",
       "      <th>track_id</th>\n",
       "      <th>title</th>\n",
       "      <th>song_id</th>\n",
       "      <th>release</th>\n",
       "      <th>artist_id</th>\n",
       "      <th>artist_mbid</th>\n",
       "      <th>artist_name</th>\n",
       "      <th>duration</th>\n",
       "      <th>artist_familiarity</th>\n",
       "      <th>artist_hotttnesss</th>\n",
       "      <th>year</th>\n",
       "      <th>track_7digitalid</th>\n",
       "      <th>shs_perf</th>\n",
       "      <th>shs_work</th>\n",
       "    </tr>\n",
       "  </thead>\n",
       "  <tbody>\n",
       "    <tr>\n",
       "      <th>0</th>\n",
       "      <td>TRMMMYQ128F932D901</td>\n",
       "      <td>Silent Night</td>\n",
       "      <td>SOQMMHC12AB0180CB8</td>\n",
       "      <td>Monster Ballads X-Mas</td>\n",
       "      <td>ARYZTJS1187B98C555</td>\n",
       "      <td>357ff05d-848a-44cf-b608-cb34b5701ae5</td>\n",
       "      <td>Faster Pussy cat</td>\n",
       "      <td>252.05506</td>\n",
       "      <td>0.649822</td>\n",
       "      <td>0.394032</td>\n",
       "      <td>2003</td>\n",
       "      <td>7032331</td>\n",
       "      <td>-1</td>\n",
       "      <td>0</td>\n",
       "    </tr>\n",
       "    <tr>\n",
       "      <th>1</th>\n",
       "      <td>TRMMMKD128F425225D</td>\n",
       "      <td>Tanssi vaan</td>\n",
       "      <td>SOVFVAK12A8C1350D9</td>\n",
       "      <td>Karkuteillä</td>\n",
       "      <td>ARMVN3U1187FB3A1EB</td>\n",
       "      <td>8d7ef530-a6fd-4f8f-b2e2-74aec765e0f9</td>\n",
       "      <td>Karkkiautomaatti</td>\n",
       "      <td>156.55138</td>\n",
       "      <td>0.439604</td>\n",
       "      <td>0.356992</td>\n",
       "      <td>1995</td>\n",
       "      <td>1514808</td>\n",
       "      <td>-1</td>\n",
       "      <td>0</td>\n",
       "    </tr>\n",
       "    <tr>\n",
       "      <th>2</th>\n",
       "      <td>TRMMMRX128F93187D9</td>\n",
       "      <td>No One Could Ever</td>\n",
       "      <td>SOGTUKN12AB017F4F1</td>\n",
       "      <td>Butter</td>\n",
       "      <td>ARGEKB01187FB50750</td>\n",
       "      <td>3d403d44-36ce-465c-ad43-ae877e65adc4</td>\n",
       "      <td>Hudson Mohawke</td>\n",
       "      <td>138.97098</td>\n",
       "      <td>0.643681</td>\n",
       "      <td>0.437504</td>\n",
       "      <td>2006</td>\n",
       "      <td>6945353</td>\n",
       "      <td>-1</td>\n",
       "      <td>0</td>\n",
       "    </tr>\n",
       "    <tr>\n",
       "      <th>3</th>\n",
       "      <td>TRMMMCH128F425532C</td>\n",
       "      <td>Si Vos Querés</td>\n",
       "      <td>SOBNYVR12A8C13558C</td>\n",
       "      <td>De Culo</td>\n",
       "      <td>ARNWYLR1187B9B2F9C</td>\n",
       "      <td>12be7648-7094-495f-90e6-df4189d68615</td>\n",
       "      <td>Yerba Brava</td>\n",
       "      <td>145.05751</td>\n",
       "      <td>0.448501</td>\n",
       "      <td>0.372349</td>\n",
       "      <td>2003</td>\n",
       "      <td>2168257</td>\n",
       "      <td>-1</td>\n",
       "      <td>0</td>\n",
       "    </tr>\n",
       "    <tr>\n",
       "      <th>4</th>\n",
       "      <td>TRMMMWA128F426B589</td>\n",
       "      <td>Tangle Of Aspens</td>\n",
       "      <td>SOHSBXH12A8C13B0DF</td>\n",
       "      <td>Rene Ablaze Presents Winter Sessions</td>\n",
       "      <td>AREQDTE1269FB37231</td>\n",
       "      <td></td>\n",
       "      <td>Der Mystic</td>\n",
       "      <td>514.29832</td>\n",
       "      <td>0.000000</td>\n",
       "      <td>0.000000</td>\n",
       "      <td>0</td>\n",
       "      <td>2264873</td>\n",
       "      <td>-1</td>\n",
       "      <td>0</td>\n",
       "    </tr>\n",
       "  </tbody>\n",
       "</table>\n",
       "</div>"
      ],
      "text/plain": [
       "             track_id              title             song_id  \\\n",
       "0  TRMMMYQ128F932D901       Silent Night  SOQMMHC12AB0180CB8   \n",
       "1  TRMMMKD128F425225D        Tanssi vaan  SOVFVAK12A8C1350D9   \n",
       "2  TRMMMRX128F93187D9  No One Could Ever  SOGTUKN12AB017F4F1   \n",
       "3  TRMMMCH128F425532C      Si Vos Querés  SOBNYVR12A8C13558C   \n",
       "4  TRMMMWA128F426B589   Tangle Of Aspens  SOHSBXH12A8C13B0DF   \n",
       "\n",
       "                                release           artist_id  \\\n",
       "0                 Monster Ballads X-Mas  ARYZTJS1187B98C555   \n",
       "1                           Karkuteillä  ARMVN3U1187FB3A1EB   \n",
       "2                                Butter  ARGEKB01187FB50750   \n",
       "3                               De Culo  ARNWYLR1187B9B2F9C   \n",
       "4  Rene Ablaze Presents Winter Sessions  AREQDTE1269FB37231   \n",
       "\n",
       "                            artist_mbid       artist_name   duration  \\\n",
       "0  357ff05d-848a-44cf-b608-cb34b5701ae5  Faster Pussy cat  252.05506   \n",
       "1  8d7ef530-a6fd-4f8f-b2e2-74aec765e0f9  Karkkiautomaatti  156.55138   \n",
       "2  3d403d44-36ce-465c-ad43-ae877e65adc4    Hudson Mohawke  138.97098   \n",
       "3  12be7648-7094-495f-90e6-df4189d68615       Yerba Brava  145.05751   \n",
       "4                                              Der Mystic  514.29832   \n",
       "\n",
       "   artist_familiarity  artist_hotttnesss  year  track_7digitalid  shs_perf  \\\n",
       "0            0.649822           0.394032  2003           7032331        -1   \n",
       "1            0.439604           0.356992  1995           1514808        -1   \n",
       "2            0.643681           0.437504  2006           6945353        -1   \n",
       "3            0.448501           0.372349  2003           2168257        -1   \n",
       "4            0.000000           0.000000     0           2264873        -1   \n",
       "\n",
       "   shs_work  \n",
       "0         0  \n",
       "1         0  \n",
       "2         0  \n",
       "3         0  \n",
       "4         0  "
      ]
     },
     "execution_count": 10,
     "metadata": {},
     "output_type": "execute_result"
    }
   ],
   "source": [
    "pd_songs.head()"
   ]
  },
  {
   "cell_type": "code",
   "execution_count": 11,
   "id": "90a20c2d",
   "metadata": {},
   "outputs": [
    {
     "data": {
      "text/html": [
       "<div>\n",
       "<style scoped>\n",
       "    .dataframe tbody tr th:only-of-type {\n",
       "        vertical-align: middle;\n",
       "    }\n",
       "\n",
       "    .dataframe tbody tr th {\n",
       "        vertical-align: top;\n",
       "    }\n",
       "\n",
       "    .dataframe thead th {\n",
       "        text-align: right;\n",
       "    }\n",
       "</style>\n",
       "<table border=\"1\" class=\"dataframe\">\n",
       "  <thead>\n",
       "    <tr style=\"text-align: right;\">\n",
       "      <th></th>\n",
       "      <th>duration</th>\n",
       "      <th>artist_familiarity</th>\n",
       "      <th>artist_hotttnesss</th>\n",
       "      <th>year</th>\n",
       "      <th>track_7digitalid</th>\n",
       "      <th>shs_perf</th>\n",
       "      <th>shs_work</th>\n",
       "    </tr>\n",
       "  </thead>\n",
       "  <tbody>\n",
       "    <tr>\n",
       "      <th>count</th>\n",
       "      <td>1000000.000000</td>\n",
       "      <td>1000000.000000</td>\n",
       "      <td>1000000.000000</td>\n",
       "      <td>1000000.000000</td>\n",
       "      <td>1.000000e+06</td>\n",
       "      <td>1000000.000000</td>\n",
       "      <td>1000000.000000</td>\n",
       "    </tr>\n",
       "    <tr>\n",
       "      <th>mean</th>\n",
       "      <td>249.500755</td>\n",
       "      <td>0.556915</td>\n",
       "      <td>0.379797</td>\n",
       "      <td>1030.325652</td>\n",
       "      <td>4.213995e+06</td>\n",
       "      <td>940.437395</td>\n",
       "      <td>480.173895</td>\n",
       "    </tr>\n",
       "    <tr>\n",
       "      <th>std</th>\n",
       "      <td>126.229636</td>\n",
       "      <td>0.140207</td>\n",
       "      <td>0.126050</td>\n",
       "      <td>998.745002</td>\n",
       "      <td>2.640600e+06</td>\n",
       "      <td>9168.962303</td>\n",
       "      <td>5437.859242</td>\n",
       "    </tr>\n",
       "    <tr>\n",
       "      <th>min</th>\n",
       "      <td>0.313020</td>\n",
       "      <td>-1.000000</td>\n",
       "      <td>-1.000000</td>\n",
       "      <td>0.000000</td>\n",
       "      <td>-1.000000e+00</td>\n",
       "      <td>-1.000000</td>\n",
       "      <td>-938.000000</td>\n",
       "    </tr>\n",
       "    <tr>\n",
       "      <th>25%</th>\n",
       "      <td>180.740770</td>\n",
       "      <td>0.478219</td>\n",
       "      <td>0.336321</td>\n",
       "      <td>0.000000</td>\n",
       "      <td>1.974300e+06</td>\n",
       "      <td>-1.000000</td>\n",
       "      <td>0.000000</td>\n",
       "    </tr>\n",
       "    <tr>\n",
       "      <th>50%</th>\n",
       "      <td>228.858320</td>\n",
       "      <td>0.558878</td>\n",
       "      <td>0.386194</td>\n",
       "      <td>1969.000000</td>\n",
       "      <td>3.947503e+06</td>\n",
       "      <td>-1.000000</td>\n",
       "      <td>0.000000</td>\n",
       "    </tr>\n",
       "    <tr>\n",
       "      <th>75%</th>\n",
       "      <td>289.932610</td>\n",
       "      <td>0.641392</td>\n",
       "      <td>0.444066</td>\n",
       "      <td>2002.000000</td>\n",
       "      <td>6.469678e+06</td>\n",
       "      <td>-1.000000</td>\n",
       "      <td>0.000000</td>\n",
       "    </tr>\n",
       "    <tr>\n",
       "      <th>max</th>\n",
       "      <td>3034.905670</td>\n",
       "      <td>1.000000</td>\n",
       "      <td>1.082503</td>\n",
       "      <td>2011.000000</td>\n",
       "      <td>9.091277e+06</td>\n",
       "      <td>151082.000000</td>\n",
       "      <td>117287.000000</td>\n",
       "    </tr>\n",
       "  </tbody>\n",
       "</table>\n",
       "</div>"
      ],
      "text/plain": [
       "             duration  artist_familiarity  artist_hotttnesss            year  \\\n",
       "count  1000000.000000      1000000.000000     1000000.000000  1000000.000000   \n",
       "mean       249.500755            0.556915           0.379797     1030.325652   \n",
       "std        126.229636            0.140207           0.126050      998.745002   \n",
       "min          0.313020           -1.000000          -1.000000        0.000000   \n",
       "25%        180.740770            0.478219           0.336321        0.000000   \n",
       "50%        228.858320            0.558878           0.386194     1969.000000   \n",
       "75%        289.932610            0.641392           0.444066     2002.000000   \n",
       "max       3034.905670            1.000000           1.082503     2011.000000   \n",
       "\n",
       "       track_7digitalid        shs_perf        shs_work  \n",
       "count      1.000000e+06  1000000.000000  1000000.000000  \n",
       "mean       4.213995e+06      940.437395      480.173895  \n",
       "std        2.640600e+06     9168.962303     5437.859242  \n",
       "min       -1.000000e+00       -1.000000     -938.000000  \n",
       "25%        1.974300e+06       -1.000000        0.000000  \n",
       "50%        3.947503e+06       -1.000000        0.000000  \n",
       "75%        6.469678e+06       -1.000000        0.000000  \n",
       "max        9.091277e+06   151082.000000   117287.000000  "
      ]
     },
     "execution_count": 11,
     "metadata": {},
     "output_type": "execute_result"
    }
   ],
   "source": [
    "pd_songs.describe()"
   ]
  },
  {
   "cell_type": "markdown",
   "id": "e58b3f1d",
   "metadata": {},
   "source": [
    "### Lyrics data from MusicxMatch"
   ]
  },
  {
   "cell_type": "code",
   "execution_count": 12,
   "id": "ac76ffaa",
   "metadata": {},
   "outputs": [],
   "source": [
    "# set the path to 'mxm_dataset.db' file here\n",
    "lyrics_db_path = \"C:\\\\Users\\\\mgandhi39\\\\Downloads\\\\DVA Project\\\\Dataset\\\\MusicxMatch\\\\mxm_dataset.db\""
   ]
  },
  {
   "cell_type": "code",
   "execution_count": 13,
   "id": "03765394",
   "metadata": {},
   "outputs": [],
   "source": [
    "conn2 = sqlite3.connect(lyrics_db_path)\n",
    "cursor2 = conn2.cursor()"
   ]
  },
  {
   "cell_type": "code",
   "execution_count": 14,
   "id": "117f31cd",
   "metadata": {},
   "outputs": [
    {
     "name": "stdout",
     "output_type": "stream",
     "text": [
      "[('words',), ('lyrics',)]\n"
     ]
    }
   ],
   "source": [
    "query = 'SELECT name FROM sqlite_master WHERE type=\"table\"'\n",
    "cursor2.execute(query)\n",
    "print(cursor2.fetchall())"
   ]
  },
  {
   "cell_type": "code",
   "execution_count": 15,
   "id": "63272a0e",
   "metadata": {},
   "outputs": [],
   "source": [
    "pd_lyrics = pd.read_sql_query('SELECT * FROM lyrics', conn2)"
   ]
  },
  {
   "cell_type": "code",
   "execution_count": 16,
   "id": "474729cb",
   "metadata": {},
   "outputs": [
    {
     "data": {
      "text/html": [
       "<div>\n",
       "<style scoped>\n",
       "    .dataframe tbody tr th:only-of-type {\n",
       "        vertical-align: middle;\n",
       "    }\n",
       "\n",
       "    .dataframe tbody tr th {\n",
       "        vertical-align: top;\n",
       "    }\n",
       "\n",
       "    .dataframe thead th {\n",
       "        text-align: right;\n",
       "    }\n",
       "</style>\n",
       "<table border=\"1\" class=\"dataframe\">\n",
       "  <thead>\n",
       "    <tr style=\"text-align: right;\">\n",
       "      <th></th>\n",
       "      <th>track_id</th>\n",
       "      <th>mxm_tid</th>\n",
       "      <th>word</th>\n",
       "      <th>count</th>\n",
       "      <th>is_test</th>\n",
       "    </tr>\n",
       "  </thead>\n",
       "  <tbody>\n",
       "    <tr>\n",
       "      <th>0</th>\n",
       "      <td>TRAAAAV128F421A322</td>\n",
       "      <td>4623710</td>\n",
       "      <td>i</td>\n",
       "      <td>6</td>\n",
       "      <td>0</td>\n",
       "    </tr>\n",
       "    <tr>\n",
       "      <th>1</th>\n",
       "      <td>TRAAAAV128F421A322</td>\n",
       "      <td>4623710</td>\n",
       "      <td>the</td>\n",
       "      <td>4</td>\n",
       "      <td>0</td>\n",
       "    </tr>\n",
       "    <tr>\n",
       "      <th>2</th>\n",
       "      <td>TRAAAAV128F421A322</td>\n",
       "      <td>4623710</td>\n",
       "      <td>you</td>\n",
       "      <td>2</td>\n",
       "      <td>0</td>\n",
       "    </tr>\n",
       "    <tr>\n",
       "      <th>3</th>\n",
       "      <td>TRAAAAV128F421A322</td>\n",
       "      <td>4623710</td>\n",
       "      <td>to</td>\n",
       "      <td>2</td>\n",
       "      <td>0</td>\n",
       "    </tr>\n",
       "    <tr>\n",
       "      <th>4</th>\n",
       "      <td>TRAAAAV128F421A322</td>\n",
       "      <td>4623710</td>\n",
       "      <td>and</td>\n",
       "      <td>5</td>\n",
       "      <td>0</td>\n",
       "    </tr>\n",
       "  </tbody>\n",
       "</table>\n",
       "</div>"
      ],
      "text/plain": [
       "             track_id  mxm_tid word  count  is_test\n",
       "0  TRAAAAV128F421A322  4623710    i      6        0\n",
       "1  TRAAAAV128F421A322  4623710  the      4        0\n",
       "2  TRAAAAV128F421A322  4623710  you      2        0\n",
       "3  TRAAAAV128F421A322  4623710   to      2        0\n",
       "4  TRAAAAV128F421A322  4623710  and      5        0"
      ]
     },
     "execution_count": 16,
     "metadata": {},
     "output_type": "execute_result"
    }
   ],
   "source": [
    "pd_lyrics.head()"
   ]
  },
  {
   "cell_type": "code",
   "execution_count": 17,
   "id": "31bb7dc9",
   "metadata": {},
   "outputs": [
    {
     "data": {
      "text/plain": [
       "(19045332, 5)"
      ]
     },
     "execution_count": 17,
     "metadata": {},
     "output_type": "execute_result"
    }
   ],
   "source": [
    "pd_lyrics.shape"
   ]
  },
  {
   "cell_type": "code",
   "execution_count": 18,
   "id": "6ae2111a",
   "metadata": {},
   "outputs": [
    {
     "data": {
      "text/plain": [
       "(237662,)"
      ]
     },
     "execution_count": 18,
     "metadata": {},
     "output_type": "execute_result"
    }
   ],
   "source": [
    "pd.unique(pd_lyrics[\"track_id\"]).shape"
   ]
  },
  {
   "cell_type": "markdown",
   "id": "8f38cbd2",
   "metadata": {},
   "source": [
    "## Trim songs data to match lyrics data size\n"
   ]
  },
  {
   "cell_type": "code",
   "execution_count": 19,
   "id": "e2b1e536",
   "metadata": {},
   "outputs": [],
   "source": [
    "song_data = pd_songs[pd_songs[\"track_id\"].isin(pd_lyrics[\"track_id\"])]"
   ]
  },
  {
   "cell_type": "code",
   "execution_count": 20,
   "id": "8ee69ab0",
   "metadata": {},
   "outputs": [
    {
     "data": {
      "text/plain": [
       "(237662, 14)"
      ]
     },
     "execution_count": 20,
     "metadata": {},
     "output_type": "execute_result"
    }
   ],
   "source": [
    "song_data.shape"
   ]
  },
  {
   "cell_type": "code",
   "execution_count": 21,
   "id": "5d9f72f6",
   "metadata": {},
   "outputs": [
    {
     "data": {
      "text/html": [
       "<div>\n",
       "<style scoped>\n",
       "    .dataframe tbody tr th:only-of-type {\n",
       "        vertical-align: middle;\n",
       "    }\n",
       "\n",
       "    .dataframe tbody tr th {\n",
       "        vertical-align: top;\n",
       "    }\n",
       "\n",
       "    .dataframe thead th {\n",
       "        text-align: right;\n",
       "    }\n",
       "</style>\n",
       "<table border=\"1\" class=\"dataframe\">\n",
       "  <thead>\n",
       "    <tr style=\"text-align: right;\">\n",
       "      <th></th>\n",
       "      <th>track_id</th>\n",
       "      <th>title</th>\n",
       "      <th>song_id</th>\n",
       "      <th>release</th>\n",
       "      <th>artist_id</th>\n",
       "      <th>artist_mbid</th>\n",
       "      <th>artist_name</th>\n",
       "      <th>duration</th>\n",
       "      <th>artist_familiarity</th>\n",
       "      <th>artist_hotttnesss</th>\n",
       "      <th>year</th>\n",
       "      <th>track_7digitalid</th>\n",
       "      <th>shs_perf</th>\n",
       "      <th>shs_work</th>\n",
       "    </tr>\n",
       "  </thead>\n",
       "  <tbody>\n",
       "    <tr>\n",
       "      <th>15</th>\n",
       "      <td>TRMMMKI128F931D80D</td>\n",
       "      <td>006</td>\n",
       "      <td>SOSDCFG12AB0184647</td>\n",
       "      <td>Lena 20 År</td>\n",
       "      <td>ARSB5591187B99A848</td>\n",
       "      <td>fba3e876-68f1-4a1f-99d9-c604480202ba</td>\n",
       "      <td>Lena Philipsson</td>\n",
       "      <td>262.26893</td>\n",
       "      <td>0.529819</td>\n",
       "      <td>0.410229</td>\n",
       "      <td>1998</td>\n",
       "      <td>6010886</td>\n",
       "      <td>-1</td>\n",
       "      <td>0</td>\n",
       "    </tr>\n",
       "    <tr>\n",
       "      <th>16</th>\n",
       "      <td>TRMMMUT128F42646E8</td>\n",
       "      <td>(Looking For) The Heart Of Saturday</td>\n",
       "      <td>SOBARPM12A8C133DFF</td>\n",
       "      <td>Cover Girl</td>\n",
       "      <td>ARDW5AW1187FB55708</td>\n",
       "      <td>42222090-c5e5-4243-8582-c29bc8b63ec6</td>\n",
       "      <td>Shawn Colvin</td>\n",
       "      <td>216.47628</td>\n",
       "      <td>0.685503</td>\n",
       "      <td>0.446733</td>\n",
       "      <td>1994</td>\n",
       "      <td>3156269</td>\n",
       "      <td>-1</td>\n",
       "      <td>0</td>\n",
       "    </tr>\n",
       "    <tr>\n",
       "      <th>17</th>\n",
       "      <td>TRMMMQY128F92F0EA3</td>\n",
       "      <td>Ethos of Coercion</td>\n",
       "      <td>SOKOVRQ12A8C142811</td>\n",
       "      <td>Descend Into Depravity</td>\n",
       "      <td>ARGWPP11187B9AEF43</td>\n",
       "      <td>f76167bb-c117-4022-8b6b-54c796edf5c9</td>\n",
       "      <td>Dying Fetus</td>\n",
       "      <td>196.02240</td>\n",
       "      <td>0.734471</td>\n",
       "      <td>0.511976</td>\n",
       "      <td>2009</td>\n",
       "      <td>6782293</td>\n",
       "      <td>-1</td>\n",
       "      <td>0</td>\n",
       "    </tr>\n",
       "    <tr>\n",
       "      <th>18</th>\n",
       "      <td>TRMMMTK128F424EF7C</td>\n",
       "      <td>Rock-N-Rule</td>\n",
       "      <td>SOIMMJJ12AF72AD643</td>\n",
       "      <td>I'm Only A Man (Bonus Track Version)</td>\n",
       "      <td>ARDT9VH1187B999C0B</td>\n",
       "      <td>6b22de04-fb48-44aa-bd02-c1427f635477</td>\n",
       "      <td>Emery</td>\n",
       "      <td>217.57342</td>\n",
       "      <td>0.738996</td>\n",
       "      <td>0.563367</td>\n",
       "      <td>2007</td>\n",
       "      <td>1501464</td>\n",
       "      <td>-1</td>\n",
       "      <td>0</td>\n",
       "    </tr>\n",
       "    <tr>\n",
       "      <th>20</th>\n",
       "      <td>TRMMMQV12903CA201E</td>\n",
       "      <td>I Made It Over</td>\n",
       "      <td>SOOUESZ12AB0189AFD</td>\n",
       "      <td>Let's Celebrate (He Is Risen)</td>\n",
       "      <td>ARVF2AD1187FB47580</td>\n",
       "      <td>fd711779-5524-4ed3-8d68-da0b867caa34</td>\n",
       "      <td>Rev. Timothy Wright</td>\n",
       "      <td>353.77587</td>\n",
       "      <td>0.377190</td>\n",
       "      <td>0.290242</td>\n",
       "      <td>0</td>\n",
       "      <td>6345139</td>\n",
       "      <td>-1</td>\n",
       "      <td>0</td>\n",
       "    </tr>\n",
       "  </tbody>\n",
       "</table>\n",
       "</div>"
      ],
      "text/plain": [
       "              track_id                                title  \\\n",
       "15  TRMMMKI128F931D80D                                  006   \n",
       "16  TRMMMUT128F42646E8  (Looking For) The Heart Of Saturday   \n",
       "17  TRMMMQY128F92F0EA3                    Ethos of Coercion   \n",
       "18  TRMMMTK128F424EF7C                          Rock-N-Rule   \n",
       "20  TRMMMQV12903CA201E                       I Made It Over   \n",
       "\n",
       "               song_id                               release  \\\n",
       "15  SOSDCFG12AB0184647                            Lena 20 År   \n",
       "16  SOBARPM12A8C133DFF                            Cover Girl   \n",
       "17  SOKOVRQ12A8C142811                Descend Into Depravity   \n",
       "18  SOIMMJJ12AF72AD643  I'm Only A Man (Bonus Track Version)   \n",
       "20  SOOUESZ12AB0189AFD         Let's Celebrate (He Is Risen)   \n",
       "\n",
       "             artist_id                           artist_mbid  \\\n",
       "15  ARSB5591187B99A848  fba3e876-68f1-4a1f-99d9-c604480202ba   \n",
       "16  ARDW5AW1187FB55708  42222090-c5e5-4243-8582-c29bc8b63ec6   \n",
       "17  ARGWPP11187B9AEF43  f76167bb-c117-4022-8b6b-54c796edf5c9   \n",
       "18  ARDT9VH1187B999C0B  6b22de04-fb48-44aa-bd02-c1427f635477   \n",
       "20  ARVF2AD1187FB47580  fd711779-5524-4ed3-8d68-da0b867caa34   \n",
       "\n",
       "            artist_name   duration  artist_familiarity  artist_hotttnesss  \\\n",
       "15      Lena Philipsson  262.26893            0.529819           0.410229   \n",
       "16         Shawn Colvin  216.47628            0.685503           0.446733   \n",
       "17          Dying Fetus  196.02240            0.734471           0.511976   \n",
       "18                Emery  217.57342            0.738996           0.563367   \n",
       "20  Rev. Timothy Wright  353.77587            0.377190           0.290242   \n",
       "\n",
       "    year  track_7digitalid  shs_perf  shs_work  \n",
       "15  1998           6010886        -1         0  \n",
       "16  1994           3156269        -1         0  \n",
       "17  2009           6782293        -1         0  \n",
       "18  2007           1501464        -1         0  \n",
       "20     0           6345139        -1         0  "
      ]
     },
     "execution_count": 21,
     "metadata": {},
     "output_type": "execute_result"
    }
   ],
   "source": [
    "song_data.head()"
   ]
  },
  {
   "cell_type": "markdown",
   "id": "e16d32a2",
   "metadata": {},
   "source": [
    "## Output songs and lyrics data to CSV"
   ]
  },
  {
   "cell_type": "code",
   "execution_count": 22,
   "id": "1b1683a8",
   "metadata": {},
   "outputs": [],
   "source": [
    "# set songs.csv output path here\n",
    "song_data_output_path = \"C:\\\\Users\\\\mgandhi39\\\\Downloads\\\\DVA Project\\\\Dataset\\songs.csv\"\n",
    "song_data.to_csv(song_data_output_path, index = False)"
   ]
  },
  {
   "cell_type": "code",
   "execution_count": 23,
   "id": "91dc27e9",
   "metadata": {},
   "outputs": [],
   "source": [
    "# set lyrics.csv output path here\n",
    "lyrics_data_output_path = \"C:\\\\Users\\\\mgandhi39\\\\Downloads\\\\DVA Project\\\\Dataset\\lyrics.csv\"\n",
    "pd_lyrics.to_csv(lyrics_data_output_path, index = False)"
   ]
  },
  {
   "cell_type": "code",
   "execution_count": null,
   "id": "cee44183",
   "metadata": {},
   "outputs": [],
   "source": []
  }
 ],
 "metadata": {
  "kernelspec": {
   "display_name": "env1",
   "language": "python",
   "name": "env1"
  },
  "language_info": {
   "codemirror_mode": {
    "name": "ipython",
    "version": 3
   },
   "file_extension": ".py",
   "mimetype": "text/x-python",
   "name": "python",
   "nbconvert_exporter": "python",
   "pygments_lexer": "ipython3",
   "version": "3.10.10"
  }
 },
 "nbformat": 4,
 "nbformat_minor": 5
}
